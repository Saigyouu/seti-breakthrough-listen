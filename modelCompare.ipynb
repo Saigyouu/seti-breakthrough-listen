{
 "cells": [
  {
   "cell_type": "markdown",
   "id": "d4572529",
   "metadata": {},
   "source": [
    "# Comparison between different models for the Kaggle challenge \"SETI Breakthrough Listen\" "
   ]
  },
  {
   "cell_type": "code",
   "execution_count": 1,
   "id": "6a3e99db",
   "metadata": {},
   "outputs": [],
   "source": [
    "import os\n",
    "import pandas as pd\n",
    "import numpy as np\n",
    "from sklearn import metrics\n",
    "from tqdm import tqdm\n",
    "import matplotlib.pyplot as plt\n",
    "import seaborn as sn\n",
    "import torch\n",
    "import torch.nn as nn\n",
    "import torch.nn.functional as F\n",
    "import random\n",
    "import albumentations as A\n",
    "from efficientnet_pytorch import model as enet\n",
    "from sklearn.model_selection import train_test_split\n",
    "from sklearn.model_selection import StratifiedKFold\n",
    "import codecs\n",
    "from PIL import Image\n",
    "import copy"
   ]
  },
  {
   "cell_type": "code",
   "execution_count": 2,
   "id": "232be237",
   "metadata": {},
   "outputs": [],
   "source": [
    "def set_seed(seed = 0):\n",
    "    '''Sets the seed of the entire notebook so results are the same every time we run.\n",
    "    This is for REPRODUCIBILITY.'''\n",
    "    np.random.seed(seed)\n",
    "    random_state = np.random.RandomState(seed)\n",
    "    random.seed(seed)\n",
    "    torch.manual_seed(seed)\n",
    "    torch.cuda.manual_seed(seed)\n",
    "    torch.backends.cudnn.deterministic = True\n",
    "    torch.backends.cudnn.benchmark = False\n",
    "    os.environ['PYTHONHASHSEED'] = str(seed)\n",
    "    return random_state\n",
    "\n",
    "random_state = set_seed(2021)"
   ]
  },
  {
   "cell_type": "code",
   "execution_count": 3,
   "id": "530d74cf",
   "metadata": {},
   "outputs": [
    {
     "name": "stdout",
     "output_type": "stream",
     "text": [
      "GPU is available\n"
     ]
    }
   ],
   "source": [
    "if torch.cuda.is_available():\n",
    "    device = torch.device(\"cuda\")\n",
    "    print(\"GPU is available\")\n",
    "else:\n",
    "    device = torch.device(\"cpu\")\n",
    "    print(\"GPU not available, CPU used\")"
   ]
  },
  {
   "cell_type": "markdown",
   "id": "ad1cd47b",
   "metadata": {},
   "source": [
    "### Load the Train labels and create a mapping between the id and the path to the image"
   ]
  },
  {
   "cell_type": "code",
   "execution_count": 4,
   "id": "7dce456e",
   "metadata": {
    "scrolled": true
   },
   "outputs": [
    {
     "data": {
      "text/html": [
       "<div>\n",
       "<style scoped>\n",
       "    .dataframe tbody tr th:only-of-type {\n",
       "        vertical-align: middle;\n",
       "    }\n",
       "\n",
       "    .dataframe tbody tr th {\n",
       "        vertical-align: top;\n",
       "    }\n",
       "\n",
       "    .dataframe thead th {\n",
       "        text-align: right;\n",
       "    }\n",
       "</style>\n",
       "<table border=\"1\" class=\"dataframe\">\n",
       "  <thead>\n",
       "    <tr style=\"text-align: right;\">\n",
       "      <th></th>\n",
       "      <th>id</th>\n",
       "      <th>target</th>\n",
       "    </tr>\n",
       "  </thead>\n",
       "  <tbody>\n",
       "    <tr>\n",
       "      <th>0</th>\n",
       "      <td>0000799a2b2c42d</td>\n",
       "      <td>0</td>\n",
       "    </tr>\n",
       "    <tr>\n",
       "      <th>1</th>\n",
       "      <td>00042890562ff68</td>\n",
       "      <td>0</td>\n",
       "    </tr>\n",
       "    <tr>\n",
       "      <th>2</th>\n",
       "      <td>0005364cdcb8e5b</td>\n",
       "      <td>0</td>\n",
       "    </tr>\n",
       "    <tr>\n",
       "      <th>3</th>\n",
       "      <td>0007a5a46901c56</td>\n",
       "      <td>0</td>\n",
       "    </tr>\n",
       "    <tr>\n",
       "      <th>4</th>\n",
       "      <td>0009283e145448e</td>\n",
       "      <td>0</td>\n",
       "    </tr>\n",
       "  </tbody>\n",
       "</table>\n",
       "</div>"
      ],
      "text/plain": [
       "                id  target\n",
       "0  0000799a2b2c42d       0\n",
       "1  00042890562ff68       0\n",
       "2  0005364cdcb8e5b       0\n",
       "3  0007a5a46901c56       0\n",
       "4  0009283e145448e       0"
      ]
     },
     "execution_count": 4,
     "metadata": {},
     "output_type": "execute_result"
    }
   ],
   "source": [
    "df_train=pd.read_csv('./train_labels.csv')\n",
    "df_train.head()"
   ]
  },
  {
   "cell_type": "code",
   "execution_count": 5,
   "id": "23fcf629",
   "metadata": {
    "scrolled": false
   },
   "outputs": [
    {
     "data": {
      "text/html": [
       "<div>\n",
       "<style scoped>\n",
       "    .dataframe tbody tr th:only-of-type {\n",
       "        vertical-align: middle;\n",
       "    }\n",
       "\n",
       "    .dataframe tbody tr th {\n",
       "        vertical-align: top;\n",
       "    }\n",
       "\n",
       "    .dataframe thead th {\n",
       "        text-align: right;\n",
       "    }\n",
       "</style>\n",
       "<table border=\"1\" class=\"dataframe\">\n",
       "  <thead>\n",
       "    <tr style=\"text-align: right;\">\n",
       "      <th></th>\n",
       "      <th>id</th>\n",
       "      <th>target</th>\n",
       "      <th>img_path</th>\n",
       "    </tr>\n",
       "  </thead>\n",
       "  <tbody>\n",
       "    <tr>\n",
       "      <th>0</th>\n",
       "      <td>0000799a2b2c42d</td>\n",
       "      <td>0</td>\n",
       "      <td>./train/0/0000799a2b2c42d.npy</td>\n",
       "    </tr>\n",
       "    <tr>\n",
       "      <th>1</th>\n",
       "      <td>00042890562ff68</td>\n",
       "      <td>0</td>\n",
       "      <td>./train/0/00042890562ff68.npy</td>\n",
       "    </tr>\n",
       "    <tr>\n",
       "      <th>2</th>\n",
       "      <td>0005364cdcb8e5b</td>\n",
       "      <td>0</td>\n",
       "      <td>./train/0/0005364cdcb8e5b.npy</td>\n",
       "    </tr>\n",
       "    <tr>\n",
       "      <th>3</th>\n",
       "      <td>0007a5a46901c56</td>\n",
       "      <td>0</td>\n",
       "      <td>./train/0/0007a5a46901c56.npy</td>\n",
       "    </tr>\n",
       "    <tr>\n",
       "      <th>4</th>\n",
       "      <td>0009283e145448e</td>\n",
       "      <td>0</td>\n",
       "      <td>./train/0/0009283e145448e.npy</td>\n",
       "    </tr>\n",
       "  </tbody>\n",
       "</table>\n",
       "</div>"
      ],
      "text/plain": [
       "                id  target                       img_path\n",
       "0  0000799a2b2c42d       0  ./train/0/0000799a2b2c42d.npy\n",
       "1  00042890562ff68       0  ./train/0/00042890562ff68.npy\n",
       "2  0005364cdcb8e5b       0  ./train/0/0005364cdcb8e5b.npy\n",
       "3  0007a5a46901c56       0  ./train/0/0007a5a46901c56.npy\n",
       "4  0009283e145448e       0  ./train/0/0009283e145448e.npy"
      ]
     },
     "execution_count": 5,
     "metadata": {},
     "output_type": "execute_result"
    }
   ],
   "source": [
    "df_train['img_path']=df_train['id'].apply(lambda x:f'./train/{x[0]}/{x}.npy')\n",
    "df_train.head()"
   ]
  },
  {
   "cell_type": "code",
   "execution_count": 6,
   "id": "17dc3ef4",
   "metadata": {
    "scrolled": true
   },
   "outputs": [
    {
     "data": {
      "image/png": "[encoded data removed]",
      "text/plain": [
       "<Figure size 1152x360 with 1 Axes>"
      ]
     },
     "metadata": {
      "needs_background": "light"
     },
     "output_type": "display_data"
    }
   ],
   "source": [
    "plt.figure(figsize=(16, 5))\n",
    "sn.countplot(y=\"target\", data=df_train)\n",
    "plt.title(\"Target Distribution\");"
   ]
  },
  {
   "cell_type": "markdown",
   "id": "eec7910e",
   "metadata": {},
   "source": [
    "### Define the Dataset and the Neural Network classes"
   ]
  },
  {
   "cell_type": "code",
   "execution_count": 7,
   "id": "7d97fab8",
   "metadata": {},
   "outputs": [],
   "source": [
    "class ClassificationDataset:\n",
    "    \n",
    "    def __init__(self, image_paths, targets, augment=None): \n",
    "        self.image_paths = image_paths\n",
    "        self.targets = targets\n",
    "        self.augment = augment\n",
    "\n",
    "    def __len__(self):\n",
    "        return len(self.image_paths)\n",
    "    \n",
    "    def __getitem__(self, item):      \n",
    "        image = np.load(self.image_paths[item]).astype(float)\n",
    "        \n",
    "        targets = self.targets[item]\n",
    "        \n",
    "        # Image Preprocessing: Stack vertically, transpose and resize to 512 x 512 \n",
    "        \n",
    "        image = np.vstack(image).transpose((1, 0))\n",
    "        img_pl = Image.fromarray(image).resize((512, 512), resample=Image.BICUBIC)\n",
    "        image = np.array(img_pl)\n",
    "            \n",
    "        # Augmentation\n",
    "        if self.augment:\n",
    "            image = self.augment(image=image)['image']\n",
    "                \n",
    "        return {\n",
    "            \"image\": torch.from_numpy(image).unsqueeze(dim=0),\n",
    "            \"targets\": torch.tensor(targets, dtype=torch.long),\n",
    "        }"
   ]
  },
  {
   "cell_type": "code",
   "execution_count": 8,
   "id": "f5b34c62",
   "metadata": {},
   "outputs": [],
   "source": [
    "class enetv2(nn.Module):\n",
    "    def __init__(self, backbone, pretrained=False, out_dim=1):\n",
    "        super(enetv2, self).__init__()\n",
    "        self.enet = enet.EfficientNet.from_name(backbone)\n",
    "        if pretrained:\n",
    "            self.enet.load_state_dict(torch.load(pretrained_model[backbone]))\n",
    "        self.myfc = nn.Linear(self.enet._fc.in_features, out_dim)\n",
    "        self.enet._fc = nn.Identity()\n",
    "        self.conv1Norm = nn.Conv2d(1, 32, kernel_size=3, stride=1, padding=3, bias=False)\n",
    "        self.poolNorm = nn.MaxPool2d(2, 2)\n",
    "        self.conv2Norm = nn.Conv2d(32, 3, kernel_size=3, bias=False)\n",
    "\n",
    "    def extract(self, x):\n",
    "        return self.enet(x)\n",
    "\n",
    "    def forward(self, x):\n",
    "        x = self.conv1Norm(x)\n",
    "        x = self.poolNorm(x)\n",
    "        x = self.conv2Norm(x)\n",
    "        x = self.extract(x)\n",
    "        x = self.myfc(x)\n",
    "        return x"
   ]
  },
  {
   "cell_type": "markdown",
   "id": "75fa1155",
   "metadata": {},
   "source": [
    "### Define train and evaluation function"
   ]
  },
  {
   "cell_type": "code",
   "execution_count": 9,
   "id": "5d40ac51",
   "metadata": {},
   "outputs": [],
   "source": [
    "def train(data_loader, model, optimizer, device):\n",
    "    \n",
    "    model.train()\n",
    "    running_loss = 0\n",
    "    i = 0\n",
    "    \n",
    "    for data in tqdm(data_loader, position=0, leave=True, desc='Training'):\n",
    "        i += 1\n",
    "        inputs = data[\"image\"]\n",
    "        targets = data['targets']\n",
    "        \n",
    "        # Cast\n",
    "        inputs = inputs.to(device, dtype=torch.float)\n",
    "        targets = targets.to(device, dtype=torch.float)\n",
    "        \n",
    "        optimizer.zero_grad()\n",
    "        outputs = model(inputs) # Output Weights\n",
    "        loss = nn.BCEWithLogitsLoss()(outputs, targets.view(-1, 1)) # Loss calculation\n",
    "        loss.backward()\n",
    "        optimizer.step()\n",
    "        \n",
    "        running_loss += loss.item()\n",
    "        \n",
    "    return running_loss / i\n",
    "        \n",
    "def evaluate(data_loader, model, device):\n",
    "    model.eval() # Sets to evaluation mode\n",
    "    \n",
    "    final_targets = []\n",
    "    final_outputs = []\n",
    "    \n",
    "    with torch.no_grad():\n",
    "        running_loss = 0\n",
    "        i = 0\n",
    "        \n",
    "        for data in tqdm(data_loader, position=0, leave=True, desc='Evaluating'):\n",
    "            i += 1\n",
    "            inputs = data[\"image\"]\n",
    "            targets = data[\"targets\"]\n",
    "            inputs = inputs.to(device, dtype=torch.float)\n",
    "            targets = targets.to(device, dtype=torch.float)\n",
    "            \n",
    "            output = model(inputs)\n",
    "            \n",
    "            running_loss += nn.BCEWithLogitsLoss()(output, targets.view(-1, 1)).item()\n",
    "            \n",
    "            targets = targets.detach().cpu().numpy().tolist()\n",
    "            output = output.detach().cpu().numpy().tolist()\n",
    "            \n",
    "            final_targets.extend(targets)\n",
    "            final_outputs.extend(output)\n",
    "            \n",
    "    return final_outputs, final_targets, running_loss / i"
   ]
  },
  {
   "cell_type": "code",
   "execution_count": 10,
   "id": "a06a0622",
   "metadata": {},
   "outputs": [],
   "source": [
    "baseline_name = ['efficientnet-b1', 'efficientnet-b3', 'efficientnet-b5'] # Neural Networks to use\n",
    "pretrained_model = {\n",
    "    baseline_name[0]: './checkpoint/efficientnet-b1-dbc7070a.pth', # Pretrained models\n",
    "    baseline_name[1]: './checkpoint/efficientnet-b3-c8376fa2.pth',\n",
    "    baseline_name[2]: './checkpoint/efficientnet-b5-586e6cc6.pth'\n",
    "}\n",
    "models = []\n",
    "device = \"cuda\"\n",
    "Batch_Size = 8\n",
    "folds = 4\n",
    "learn_rate = 5e-4\n",
    "X = df_train.img_path.values\n",
    "Y = df_train.target.values\n",
    "skf = StratifiedKFold(n_splits=folds) # Cross Validation 5-fold, mehrschichtig (stratified)\n",
    "# -> https://scikit-learn.org/stable/auto_examples/model_selection/plot_cv_indices.html#sphx-glr-auto-examples-model-selection-plot-cv-indices-py)\n",
    "\n",
    "starter_models = [enetv2(baseline_name[0], pretrained=True, out_dim=1),\n",
    "                  enetv2(baseline_name[1], pretrained=True, out_dim=1),\n",
    "                  enetv2(baseline_name[2], pretrained=True, out_dim=1),\n",
    "                  enetv2(baseline_name[0], pretrained=True, out_dim=1),\n",
    "                  enetv2(baseline_name[1], pretrained=True, out_dim=1),\n",
    "                  enetv2(baseline_name[2], pretrained=True, out_dim=1)]\n",
    "\n",
    "names = ['efficientnet-b1', 'efficientnet-b3', 'efficientnet-b5',\n",
    "        'efficientnet-b1-augment', 'efficientnet-b3-augment', 'efficientnet-b5-augment']\n",
    "\n",
    "epochs = 5\n",
    "train_losses = [[[] for i in range(folds)] for i in names]\n",
    "valid_losses = [[[] for i in range(folds)] for i in names]\n",
    "aurocs = [[[] for i in range(folds)] for i in names]"
   ]
  },
  {
   "cell_type": "code",
   "execution_count": 11,
   "id": "dab85bde",
   "metadata": {},
   "outputs": [],
   "source": [
    "#create log file\n",
    "codecs.open('results.log', 'w+');"
   ]
  },
  {
   "cell_type": "code",
   "execution_count": 12,
   "id": "22d82780",
   "metadata": {
    "scrolled": false
   },
   "outputs": [
    {
     "name": "stderr",
     "output_type": "stream",
     "text": [
      "Training: 100%|██████████████████████████████| 5625/5625 [10:43<00:00,  8.74it/s]\n",
      "Evaluating: 100%|████████████████████████████| 1875/1875 [01:16<00:00, 24.55it/s]\n"
     ]
    },
    {
     "name": "stdout",
     "output_type": "stream",
     "text": [
      "Model=efficientnet-b1, Fold 0: Epoch=0, Train Loss=0.2538037712679969, Validation Loss=0.20819047698378562, Validation ROC AUC=0.8106622716049383\n"
     ]
    },
    {
     "name": "stderr",
     "output_type": "stream",
     "text": [
      "Training: 100%|██████████████████████████████| 5625/5625 [10:49<00:00,  8.67it/s]\n",
      "Evaluating: 100%|████████████████████████████| 1875/1875 [01:15<00:00, 24.80it/s]\n"
     ]
    },
    {
     "name": "stdout",
     "output_type": "stream",
     "text": [
      "Model=efficientnet-b1, Fold 0: Epoch=1, Train Loss=0.21427932505872516, Validation Loss=0.2132311812793215, Validation ROC AUC=0.8074902962962963\n"
     ]
    },
    {
     "name": "stderr",
     "output_type": "stream",
     "text": [
      "Training: 100%|██████████████████████████████| 5625/5625 [10:49<00:00,  8.66it/s]\n",
      "Evaluating: 100%|████████████████████████████| 1875/1875 [01:15<00:00, 24.85it/s]\n"
     ]
    },
    {
     "name": "stdout",
     "output_type": "stream",
     "text": [
      "Model=efficientnet-b1, Fold 0: Epoch=2, Train Loss=0.19999582696987522, Validation Loss=0.19945652823944887, Validation ROC AUC=0.8257202716049381\n"
     ]
    },
    {
     "name": "stderr",
     "output_type": "stream",
     "text": [
      "Training: 100%|██████████████████████████████| 5625/5625 [10:48<00:00,  8.68it/s]\n",
      "Evaluating: 100%|████████████████████████████| 1875/1875 [01:15<00:00, 24.75it/s]\n"
     ]
    },
    {
     "name": "stdout",
     "output_type": "stream",
     "text": [
      "Model=efficientnet-b1, Fold 0: Epoch=3, Train Loss=0.1919287382685476, Validation Loss=0.20759169675037265, Validation ROC AUC=0.8288643456790123\n"
     ]
    },
    {
     "name": "stderr",
     "output_type": "stream",
     "text": [
      "Training: 100%|██████████████████████████████| 5625/5625 [10:46<00:00,  8.70it/s]\n",
      "Evaluating: 100%|████████████████████████████| 1875/1875 [01:15<00:00, 24.84it/s]\n"
     ]
    },
    {
     "name": "stdout",
     "output_type": "stream",
     "text": [
      "Model=efficientnet-b1, Fold 0: Epoch=4, Train Loss=0.16699464697589478, Validation Loss=0.18434479383975266, Validation ROC AUC=0.8466271111111111\n"
     ]
    },
    {
     "name": "stderr",
     "output_type": "stream",
     "text": [
      "Training: 100%|██████████████████████████████| 5625/5625 [10:54<00:00,  8.60it/s]\n",
      "Evaluating: 100%|████████████████████████████| 1875/1875 [01:16<00:00, 24.44it/s]\n"
     ]
    },
    {
     "name": "stdout",
     "output_type": "stream",
     "text": [
      "Model=efficientnet-b1, Fold 1: Epoch=0, Train Loss=0.25636100537843176, Validation Loss=0.21555492471059162, Validation ROC AUC=0.8065873086419754\n"
     ]
    },
    {
     "name": "stderr",
     "output_type": "stream",
     "text": [
      "Training: 100%|██████████████████████████████| 5625/5625 [10:54<00:00,  8.59it/s]\n",
      "Evaluating: 100%|████████████████████████████| 1875/1875 [01:16<00:00, 24.67it/s]\n"
     ]
    },
    {
     "name": "stdout",
     "output_type": "stream",
     "text": [
      "Model=efficientnet-b1, Fold 1: Epoch=1, Train Loss=0.21257909412549603, Validation Loss=0.20783099952538808, Validation ROC AUC=0.804274938271605\n"
     ]
    },
    {
     "name": "stderr",
     "output_type": "stream",
     "text": [
      "Training: 100%|██████████████████████████████| 5625/5625 [10:55<00:00,  8.58it/s]\n",
      "Evaluating: 100%|████████████████████████████| 1875/1875 [01:16<00:00, 24.55it/s]\n"
     ]
    },
    {
     "name": "stdout",
     "output_type": "stream",
     "text": [
      "Model=efficientnet-b1, Fold 1: Epoch=2, Train Loss=0.19927917681634427, Validation Loss=0.19420671228468417, Validation ROC AUC=0.8358483950617284\n"
     ]
    },
    {
     "name": "stderr",
     "output_type": "stream",
     "text": [
      "Training: 100%|██████████████████████████████| 5625/5625 [10:55<00:00,  8.58it/s]\n",
      "Evaluating: 100%|████████████████████████████| 1875/1875 [01:15<00:00, 24.72it/s]\n"
     ]
    },
    {
     "name": "stdout",
     "output_type": "stream",
     "text": [
      "Model=efficientnet-b1, Fold 1: Epoch=3, Train Loss=0.1892425628989935, Validation Loss=0.1944737228622039, Validation ROC AUC=0.8461526419753087\n"
     ]
    },
    {
     "name": "stderr",
     "output_type": "stream",
     "text": [
      "Training: 100%|██████████████████████████████| 5625/5625 [10:54<00:00,  8.59it/s]\n",
      "Evaluating: 100%|████████████████████████████| 1875/1875 [01:15<00:00, 24.74it/s]\n"
     ]
    },
    {
     "name": "stdout",
     "output_type": "stream",
     "text": [
      "Model=efficientnet-b1, Fold 1: Epoch=4, Train Loss=0.1634274597591824, Validation Loss=0.18226188025226195, Validation ROC AUC=0.8587872839506174\n"
     ]
    },
    {
     "name": "stderr",
     "output_type": "stream",
     "text": [
      "Training: 100%|██████████████████████████████| 5625/5625 [10:57<00:00,  8.56it/s]\n",
      "Evaluating: 100%|████████████████████████████| 1875/1875 [01:15<00:00, 24.89it/s]\n"
     ]
    },
    {
     "name": "stdout",
     "output_type": "stream",
     "text": [
      "Model=efficientnet-b1, Fold 2: Epoch=0, Train Loss=0.264406321828564, Validation Loss=0.20728807491163412, Validation ROC AUC=0.8239185432098767\n"
     ]
    },
    {
     "name": "stderr",
     "output_type": "stream",
     "text": [
      "Training: 100%|██████████████████████████████| 5625/5625 [10:55<00:00,  8.58it/s]\n",
      "Evaluating: 100%|████████████████████████████| 1875/1875 [01:14<00:00, 25.08it/s]\n"
     ]
    },
    {
     "name": "stdout",
     "output_type": "stream",
     "text": [
      "Model=efficientnet-b1, Fold 2: Epoch=1, Train Loss=0.21740989120668835, Validation Loss=0.2098396133594215, Validation ROC AUC=0.8349601234567902\n"
     ]
    },
    {
     "name": "stderr",
     "output_type": "stream",
     "text": [
      "Training: 100%|██████████████████████████████| 5625/5625 [10:55<00:00,  8.58it/s]\n",
      "Evaluating: 100%|████████████████████████████| 1875/1875 [01:15<00:00, 24.73it/s]\n"
     ]
    },
    {
     "name": "stdout",
     "output_type": "stream",
     "text": [
      "Model=efficientnet-b1, Fold 2: Epoch=2, Train Loss=0.20196101358599133, Validation Loss=0.19473217001358667, Validation ROC AUC=0.8320102962962963\n"
     ]
    },
    {
     "name": "stderr",
     "output_type": "stream",
     "text": [
      "Training: 100%|██████████████████████████████| 5625/5625 [10:53<00:00,  8.61it/s]\n",
      "Evaluating: 100%|████████████████████████████| 1875/1875 [01:14<00:00, 25.11it/s]\n"
     ]
    },
    {
     "name": "stdout",
     "output_type": "stream",
     "text": [
      "Model=efficientnet-b1, Fold 2: Epoch=3, Train Loss=0.19315237677560912, Validation Loss=0.18473571180502574, Validation ROC AUC=0.8496164938271605\n"
     ]
    },
    {
     "name": "stderr",
     "output_type": "stream",
     "text": [
      "Training: 100%|██████████████████████████████| 5625/5625 [10:53<00:00,  8.60it/s]\n",
      "Evaluating: 100%|████████████████████████████| 1875/1875 [01:16<00:00, 24.48it/s]\n"
     ]
    },
    {
     "name": "stdout",
     "output_type": "stream",
     "text": [
      "Model=efficientnet-b1, Fold 2: Epoch=4, Train Loss=0.16937944176759984, Validation Loss=0.17634945533623297, Validation ROC AUC=0.860559975308642\n"
     ]
    },
    {
     "name": "stderr",
     "output_type": "stream",
     "text": [
      "Training: 100%|██████████████████████████████| 5625/5625 [10:57<00:00,  8.55it/s]\n",
      "Evaluating: 100%|████████████████████████████| 1875/1875 [01:14<00:00, 25.04it/s]\n"
     ]
    },
    {
     "name": "stdout",
     "output_type": "stream",
     "text": [
      "Model=efficientnet-b1, Fold 3: Epoch=0, Train Loss=0.25905608860419854, Validation Loss=0.2074629339804252, Validation ROC AUC=0.8262011604938273\n"
     ]
    },
    {
     "name": "stderr",
     "output_type": "stream",
     "text": [
      "Training: 100%|██████████████████████████████| 5625/5625 [10:57<00:00,  8.56it/s]\n",
      "Evaluating: 100%|████████████████████████████| 1875/1875 [01:14<00:00, 25.20it/s]\n"
     ]
    },
    {
     "name": "stdout",
     "output_type": "stream",
     "text": [
      "Model=efficientnet-b1, Fold 3: Epoch=1, Train Loss=0.21503534813788203, Validation Loss=0.19688916611075402, Validation ROC AUC=0.817180938271605\n"
     ]
    },
    {
     "name": "stderr",
     "output_type": "stream",
     "text": [
      "Training: 100%|██████████████████████████████| 5625/5625 [10:56<00:00,  8.57it/s]\n",
      "Evaluating: 100%|████████████████████████████| 1875/1875 [01:14<00:00, 25.13it/s]\n"
     ]
    },
    {
     "name": "stdout",
     "output_type": "stream",
     "text": [
      "Model=efficientnet-b1, Fold 3: Epoch=2, Train Loss=0.20131758254898918, Validation Loss=0.18990083804527919, Validation ROC AUC=0.834113901234568\n"
     ]
    },
    {
     "name": "stderr",
     "output_type": "stream",
     "text": [
      "Training: 100%|██████████████████████████████| 5625/5625 [10:55<00:00,  8.58it/s]\n",
      "Evaluating: 100%|████████████████████████████| 1875/1875 [01:14<00:00, 25.08it/s]\n"
     ]
    },
    {
     "name": "stdout",
     "output_type": "stream",
     "text": [
      "Model=efficientnet-b1, Fold 3: Epoch=3, Train Loss=0.19329721644918124, Validation Loss=0.19252555834949017, Validation ROC AUC=0.8471046666666666\n"
     ]
    },
    {
     "name": "stderr",
     "output_type": "stream",
     "text": [
      "Training: 100%|██████████████████████████████| 5625/5625 [10:56<00:00,  8.57it/s]\n",
      "Evaluating: 100%|████████████████████████████| 1875/1875 [01:15<00:00, 24.99it/s]\n"
     ]
    },
    {
     "name": "stdout",
     "output_type": "stream",
     "text": [
      "Model=efficientnet-b1, Fold 3: Epoch=4, Train Loss=0.16957537767820888, Validation Loss=0.17747278222491344, Validation ROC AUC=0.8613042469135803\n"
     ]
    },
    {
     "name": "stderr",
     "output_type": "stream",
     "text": [
      "Training: 100%|██████████████████████████████| 5625/5625 [12:19<00:00,  7.61it/s]\n",
      "Evaluating: 100%|████████████████████████████| 1875/1875 [01:16<00:00, 24.64it/s]\n"
     ]
    },
    {
     "name": "stdout",
     "output_type": "stream",
     "text": [
      "Model=efficientnet-b3, Fold 0: Epoch=0, Train Loss=0.2505759078012572, Validation Loss=0.21698244711558023, Validation ROC AUC=0.80285787654321\n"
     ]
    },
    {
     "name": "stderr",
     "output_type": "stream",
     "text": [
      "Training: 100%|██████████████████████████████| 5625/5625 [12:20<00:00,  7.60it/s]\n",
      "Evaluating: 100%|████████████████████████████| 1875/1875 [01:15<00:00, 24.74it/s]\n"
     ]
    },
    {
     "name": "stdout",
     "output_type": "stream",
     "text": [
      "Model=efficientnet-b3, Fold 0: Epoch=1, Train Loss=0.21333332376645672, Validation Loss=0.20238595806360246, Validation ROC AUC=0.8256113086419754\n"
     ]
    },
    {
     "name": "stderr",
     "output_type": "stream",
     "text": [
      "Training: 100%|██████████████████████████████| 5625/5625 [12:22<00:00,  7.58it/s]\n",
      "Evaluating: 100%|████████████████████████████| 1875/1875 [01:15<00:00, 24.69it/s]\n"
     ]
    },
    {
     "name": "stdout",
     "output_type": "stream",
     "text": [
      "Model=efficientnet-b3, Fold 0: Epoch=2, Train Loss=0.199244082761142, Validation Loss=0.19562878260463476, Validation ROC AUC=0.8388803209876543\n"
     ]
    },
    {
     "name": "stderr",
     "output_type": "stream",
     "text": [
      "Training: 100%|██████████████████████████████| 5625/5625 [12:13<00:00,  7.67it/s]\n",
      "Evaluating: 100%|████████████████████████████| 1875/1875 [01:16<00:00, 24.64it/s]\n"
     ]
    },
    {
     "name": "stdout",
     "output_type": "stream",
     "text": [
      "Model=efficientnet-b3, Fold 0: Epoch=3, Train Loss=0.18770414203024574, Validation Loss=0.19676148259341716, Validation ROC AUC=0.8390817777777778\n"
     ]
    },
    {
     "name": "stderr",
     "output_type": "stream",
     "text": [
      "Training: 100%|██████████████████████████████| 5625/5625 [12:14<00:00,  7.65it/s]\n",
      "Evaluating: 100%|████████████████████████████| 1875/1875 [01:14<00:00, 25.14it/s]\n"
     ]
    },
    {
     "name": "stdout",
     "output_type": "stream",
     "text": [
      "Model=efficientnet-b3, Fold 0: Epoch=4, Train Loss=0.16196241769691308, Validation Loss=0.18044991483092307, Validation ROC AUC=0.8545532345679012\n"
     ]
    },
    {
     "name": "stderr",
     "output_type": "stream",
     "text": [
      "Training: 100%|██████████████████████████████| 5625/5625 [12:18<00:00,  7.62it/s]\n",
      "Evaluating: 100%|████████████████████████████| 1875/1875 [01:15<00:00, 24.85it/s]\n"
     ]
    },
    {
     "name": "stdout",
     "output_type": "stream",
     "text": [
      "Model=efficientnet-b3, Fold 1: Epoch=0, Train Loss=0.2595753151502874, Validation Loss=0.21421596097747486, Validation ROC AUC=0.7996582222222224\n"
     ]
    },
    {
     "name": "stderr",
     "output_type": "stream",
     "text": [
      "Training: 100%|██████████████████████████████| 5625/5625 [12:13<00:00,  7.66it/s]\n",
      "Evaluating: 100%|████████████████████████████| 1875/1875 [01:16<00:00, 24.45it/s]\n"
     ]
    },
    {
     "name": "stdout",
     "output_type": "stream",
     "text": [
      "Model=efficientnet-b3, Fold 1: Epoch=1, Train Loss=0.21656729184488455, Validation Loss=0.2080024123340845, Validation ROC AUC=0.8031466172839506\n"
     ]
    },
    {
     "name": "stderr",
     "output_type": "stream",
     "text": [
      "Training: 100%|██████████████████████████████| 5625/5625 [12:16<00:00,  7.64it/s]\n",
      "Evaluating: 100%|████████████████████████████| 1875/1875 [01:15<00:00, 24.92it/s]\n"
     ]
    },
    {
     "name": "stdout",
     "output_type": "stream",
     "text": [
      "Model=efficientnet-b3, Fold 1: Epoch=2, Train Loss=0.19979855664521456, Validation Loss=0.2017442766537269, Validation ROC AUC=0.8179434074074075\n"
     ]
    },
    {
     "name": "stderr",
     "output_type": "stream",
     "text": [
      "Training: 100%|██████████████████████████████| 5625/5625 [12:19<00:00,  7.61it/s]\n",
      "Evaluating: 100%|████████████████████████████| 1875/1875 [01:15<00:00, 24.87it/s]\n"
     ]
    },
    {
     "name": "stdout",
     "output_type": "stream",
     "text": [
      "Model=efficientnet-b3, Fold 1: Epoch=3, Train Loss=0.19094641976919438, Validation Loss=0.19272652169118326, Validation ROC AUC=0.8421907901234568\n"
     ]
    },
    {
     "name": "stderr",
     "output_type": "stream",
     "text": [
      "Training: 100%|██████████████████████████████| 5625/5625 [12:19<00:00,  7.61it/s]\n",
      "Evaluating: 100%|████████████████████████████| 1875/1875 [01:15<00:00, 24.74it/s]\n"
     ]
    },
    {
     "name": "stdout",
     "output_type": "stream",
     "text": [
      "Model=efficientnet-b3, Fold 1: Epoch=4, Train Loss=0.16480012730227575, Validation Loss=0.18271359868049622, Validation ROC AUC=0.8529624197530865\n"
     ]
    },
    {
     "name": "stderr",
     "output_type": "stream",
     "text": [
      "Training: 100%|██████████████████████████████| 5625/5625 [12:15<00:00,  7.64it/s]\n",
      "Evaluating: 100%|████████████████████████████| 1875/1875 [01:16<00:00, 24.45it/s]\n"
     ]
    },
    {
     "name": "stdout",
     "output_type": "stream",
     "text": [
      "Model=efficientnet-b3, Fold 2: Epoch=0, Train Loss=0.2537057986895243, Validation Loss=0.21580173941055933, Validation ROC AUC=0.8104231111111111\n"
     ]
    },
    {
     "name": "stderr",
     "output_type": "stream",
     "text": [
      "Training: 100%|██████████████████████████████| 5625/5625 [12:22<00:00,  7.57it/s]\n",
      "Evaluating: 100%|████████████████████████████| 1875/1875 [01:16<00:00, 24.65it/s]\n"
     ]
    },
    {
     "name": "stdout",
     "output_type": "stream",
     "text": [
      "Model=efficientnet-b3, Fold 2: Epoch=1, Train Loss=0.21505133770505588, Validation Loss=0.19840488020380337, Validation ROC AUC=0.8321461728395062\n"
     ]
    },
    {
     "name": "stderr",
     "output_type": "stream",
     "text": [
      "Training: 100%|██████████████████████████████| 5625/5625 [12:17<00:00,  7.63it/s]\n",
      "Evaluating: 100%|████████████████████████████| 1875/1875 [01:15<00:00, 24.84it/s]\n"
     ]
    },
    {
     "name": "stdout",
     "output_type": "stream",
     "text": [
      "Model=efficientnet-b3, Fold 2: Epoch=2, Train Loss=0.2002895227495167, Validation Loss=0.18896929284632205, Validation ROC AUC=0.8478421234567901\n"
     ]
    },
    {
     "name": "stderr",
     "output_type": "stream",
     "text": [
      "Training: 100%|██████████████████████████████| 5625/5625 [12:15<00:00,  7.65it/s]\n",
      "Evaluating: 100%|████████████████████████████| 1875/1875 [01:16<00:00, 24.48it/s]\n"
     ]
    },
    {
     "name": "stdout",
     "output_type": "stream",
     "text": [
      "Model=efficientnet-b3, Fold 2: Epoch=3, Train Loss=0.19178510892738898, Validation Loss=0.18475713930924734, Validation ROC AUC=0.8567065679012346\n"
     ]
    },
    {
     "name": "stderr",
     "output_type": "stream",
     "text": [
      "Training: 100%|██████████████████████████████| 5625/5625 [12:17<00:00,  7.63it/s]\n",
      "Evaluating: 100%|████████████████████████████| 1875/1875 [01:15<00:00, 24.85it/s]\n"
     ]
    },
    {
     "name": "stdout",
     "output_type": "stream",
     "text": [
      "Model=efficientnet-b3, Fold 2: Epoch=4, Train Loss=0.16583427745997906, Validation Loss=0.17815390925357738, Validation ROC AUC=0.863399950617284\n"
     ]
    },
    {
     "name": "stderr",
     "output_type": "stream",
     "text": [
      "Training: 100%|██████████████████████████████| 5625/5625 [12:14<00:00,  7.66it/s]\n",
      "Evaluating: 100%|████████████████████████████| 1875/1875 [01:15<00:00, 24.82it/s]\n"
     ]
    },
    {
     "name": "stdout",
     "output_type": "stream",
     "text": [
      "Model=efficientnet-b3, Fold 3: Epoch=0, Train Loss=0.253115203253097, Validation Loss=0.21939455859760443, Validation ROC AUC=0.8060624938271606\n"
     ]
    },
    {
     "name": "stderr",
     "output_type": "stream",
     "text": [
      "Training: 100%|██████████████████████████████| 5625/5625 [12:18<00:00,  7.61it/s]\n",
      "Evaluating: 100%|████████████████████████████| 1875/1875 [01:16<00:00, 24.52it/s]\n"
     ]
    },
    {
     "name": "stdout",
     "output_type": "stream",
     "text": [
      "Model=efficientnet-b3, Fold 3: Epoch=1, Train Loss=0.21304813521471289, Validation Loss=0.19938691804905734, Validation ROC AUC=0.8307424197530864\n"
     ]
    },
    {
     "name": "stderr",
     "output_type": "stream",
     "text": [
      "Training: 100%|██████████████████████████████| 5625/5625 [12:16<00:00,  7.64it/s]\n",
      "Evaluating: 100%|████████████████████████████| 1875/1875 [01:17<00:00, 24.33it/s]\n"
     ]
    },
    {
     "name": "stdout",
     "output_type": "stream",
     "text": [
      "Model=efficientnet-b3, Fold 3: Epoch=2, Train Loss=0.2002209381138285, Validation Loss=0.20979050015409786, Validation ROC AUC=0.8124342716049382\n"
     ]
    },
    {
     "name": "stderr",
     "output_type": "stream",
     "text": [
      "Training: 100%|██████████████████████████████| 5625/5625 [12:15<00:00,  7.64it/s]\n",
      "Evaluating: 100%|████████████████████████████| 1875/1875 [01:15<00:00, 24.68it/s]\n"
     ]
    },
    {
     "name": "stdout",
     "output_type": "stream",
     "text": [
      "Model=efficientnet-b3, Fold 3: Epoch=3, Train Loss=0.19129632307257918, Validation Loss=0.19276548215448858, Validation ROC AUC=0.8450860000000001\n"
     ]
    },
    {
     "name": "stderr",
     "output_type": "stream",
     "text": [
      "Training: 100%|██████████████████████████████| 5625/5625 [12:17<00:00,  7.63it/s]\n",
      "Evaluating: 100%|████████████████████████████| 1875/1875 [01:15<00:00, 24.84it/s]\n"
     ]
    },
    {
     "name": "stdout",
     "output_type": "stream",
     "text": [
      "Model=efficientnet-b3, Fold 3: Epoch=4, Train Loss=0.16414604113598666, Validation Loss=0.17737844397872687, Validation ROC AUC=0.8579388641975308\n"
     ]
    },
    {
     "name": "stderr",
     "output_type": "stream",
     "text": [
      "Training: 100%|██████████████████████████████| 5625/5625 [18:00<00:00,  5.21it/s]\n",
      "Evaluating: 100%|████████████████████████████| 1875/1875 [01:28<00:00, 21.14it/s]\n"
     ]
    },
    {
     "name": "stdout",
     "output_type": "stream",
     "text": [
      "Model=efficientnet-b5, Fold 0: Epoch=0, Train Loss=0.2583281278388368, Validation Loss=0.21461951067547003, Validation ROC AUC=0.806550938271605\n"
     ]
    },
    {
     "name": "stderr",
     "output_type": "stream",
     "text": [
      "Training: 100%|██████████████████████████████| 5625/5625 [17:57<00:00,  5.22it/s]\n",
      "Evaluating: 100%|████████████████████████████| 1875/1875 [01:30<00:00, 20.68it/s]\n"
     ]
    },
    {
     "name": "stdout",
     "output_type": "stream",
     "text": [
      "Model=efficientnet-b5, Fold 0: Epoch=1, Train Loss=0.21273740250186787, Validation Loss=0.2046128940433264, Validation ROC AUC=0.8338873086419752\n"
     ]
    },
    {
     "name": "stderr",
     "output_type": "stream",
     "text": [
      "Training: 100%|██████████████████████████████| 5625/5625 [18:04<00:00,  5.19it/s]\n",
      "Evaluating: 100%|████████████████████████████| 1875/1875 [01:30<00:00, 20.69it/s]\n"
     ]
    },
    {
     "name": "stdout",
     "output_type": "stream",
     "text": [
      "Model=efficientnet-b5, Fold 0: Epoch=2, Train Loss=0.19970573310719597, Validation Loss=0.18838365504443647, Validation ROC AUC=0.8410365185185185\n"
     ]
    },
    {
     "name": "stderr",
     "output_type": "stream",
     "text": [
      "Training: 100%|██████████████████████████████| 5625/5625 [18:00<00:00,  5.21it/s]\n",
      "Evaluating: 100%|████████████████████████████| 1875/1875 [01:30<00:00, 20.65it/s]\n"
     ]
    },
    {
     "name": "stdout",
     "output_type": "stream",
     "text": [
      "Model=efficientnet-b5, Fold 0: Epoch=3, Train Loss=0.18671176661931807, Validation Loss=0.18753291506071884, Validation ROC AUC=0.8452516543209877\n"
     ]
    },
    {
     "name": "stderr",
     "output_type": "stream",
     "text": [
      "Training: 100%|██████████████████████████████| 5625/5625 [17:59<00:00,  5.21it/s]\n",
      "Evaluating: 100%|████████████████████████████| 1875/1875 [01:30<00:00, 20.74it/s]\n"
     ]
    },
    {
     "name": "stdout",
     "output_type": "stream",
     "text": [
      "Model=efficientnet-b5, Fold 0: Epoch=4, Train Loss=0.15940239502622022, Validation Loss=0.17731460698495308, Validation ROC AUC=0.8562941234567901\n"
     ]
    },
    {
     "name": "stderr",
     "output_type": "stream",
     "text": [
      "Training: 100%|██████████████████████████████| 5625/5625 [17:56<00:00,  5.23it/s]\n",
      "Evaluating: 100%|████████████████████████████| 1875/1875 [01:29<00:00, 21.04it/s]\n"
     ]
    },
    {
     "name": "stdout",
     "output_type": "stream",
     "text": [
      "Model=efficientnet-b5, Fold 1: Epoch=0, Train Loss=0.26390866837468413, Validation Loss=0.240121797311306, Validation ROC AUC=0.7587134320987654\n"
     ]
    },
    {
     "name": "stderr",
     "output_type": "stream",
     "text": [
      "Training: 100%|██████████████████████████████| 5625/5625 [17:58<00:00,  5.22it/s]\n",
      "Evaluating: 100%|████████████████████████████| 1875/1875 [01:29<00:00, 21.05it/s]\n"
     ]
    },
    {
     "name": "stdout",
     "output_type": "stream",
     "text": [
      "Model=efficientnet-b5, Fold 1: Epoch=1, Train Loss=0.21682579686625136, Validation Loss=0.2014913417607546, Validation ROC AUC=0.8303244197530864\n"
     ]
    },
    {
     "name": "stderr",
     "output_type": "stream",
     "text": [
      "Training: 100%|██████████████████████████████| 5625/5625 [18:07<00:00,  5.17it/s]\n",
      "Evaluating: 100%|████████████████████████████| 1875/1875 [01:29<00:00, 20.91it/s]\n"
     ]
    },
    {
     "name": "stdout",
     "output_type": "stream",
     "text": [
      "Model=efficientnet-b5, Fold 1: Epoch=2, Train Loss=0.2001239976859755, Validation Loss=0.19610954672992228, Validation ROC AUC=0.8412446419753087\n"
     ]
    },
    {
     "name": "stderr",
     "output_type": "stream",
     "text": [
      "Training: 100%|██████████████████████████████| 5625/5625 [17:56<00:00,  5.23it/s]\n",
      "Evaluating: 100%|████████████████████████████| 1875/1875 [01:28<00:00, 21.17it/s]\n"
     ]
    },
    {
     "name": "stdout",
     "output_type": "stream",
     "text": [
      "Model=efficientnet-b5, Fold 1: Epoch=3, Train Loss=0.18789225608872043, Validation Loss=0.1965481449852387, Validation ROC AUC=0.8332590370370372\n"
     ]
    },
    {
     "name": "stderr",
     "output_type": "stream",
     "text": [
      "Training: 100%|██████████████████████████████| 5625/5625 [18:01<00:00,  5.20it/s]\n",
      "Evaluating: 100%|████████████████████████████| 1875/1875 [01:28<00:00, 21.08it/s]\n"
     ]
    },
    {
     "name": "stdout",
     "output_type": "stream",
     "text": [
      "Model=efficientnet-b5, Fold 1: Epoch=4, Train Loss=0.16050434690482088, Validation Loss=0.1826383885656794, Validation ROC AUC=0.850075925925926\n"
     ]
    },
    {
     "name": "stderr",
     "output_type": "stream",
     "text": [
      "Training: 100%|██████████████████████████████| 5625/5625 [18:03<00:00,  5.19it/s]\n",
      "Evaluating: 100%|████████████████████████████| 1875/1875 [01:29<00:00, 21.01it/s]\n"
     ]
    },
    {
     "name": "stdout",
     "output_type": "stream",
     "text": [
      "Model=efficientnet-b5, Fold 2: Epoch=0, Train Loss=0.2607240028060145, Validation Loss=0.22966213860114415, Validation ROC AUC=0.8036537283950618\n"
     ]
    },
    {
     "name": "stderr",
     "output_type": "stream",
     "text": [
      "Training: 100%|██████████████████████████████| 5625/5625 [18:01<00:00,  5.20it/s]\n",
      "Evaluating: 100%|████████████████████████████| 1875/1875 [01:29<00:00, 20.91it/s]\n"
     ]
    },
    {
     "name": "stdout",
     "output_type": "stream",
     "text": [
      "Model=efficientnet-b5, Fold 2: Epoch=1, Train Loss=0.21861294358736938, Validation Loss=0.20901076032519342, Validation ROC AUC=0.8307747160493827\n"
     ]
    },
    {
     "name": "stderr",
     "output_type": "stream",
     "text": [
      "Training: 100%|██████████████████████████████| 5625/5625 [17:59<00:00,  5.21it/s]\n",
      "Evaluating: 100%|████████████████████████████| 1875/1875 [01:30<00:00, 20.69it/s]\n"
     ]
    },
    {
     "name": "stdout",
     "output_type": "stream",
     "text": [
      "Model=efficientnet-b5, Fold 2: Epoch=2, Train Loss=0.2000136050192846, Validation Loss=0.18963310571511585, Validation ROC AUC=0.8491368888888888\n"
     ]
    },
    {
     "name": "stderr",
     "output_type": "stream",
     "text": [
      "Training: 100%|██████████████████████████████| 5625/5625 [18:00<00:00,  5.21it/s]\n",
      "Evaluating: 100%|████████████████████████████| 1875/1875 [01:30<00:00, 20.70it/s]\n"
     ]
    },
    {
     "name": "stdout",
     "output_type": "stream",
     "text": [
      "Model=efficientnet-b5, Fold 2: Epoch=3, Train Loss=0.1899417609969775, Validation Loss=0.18040739729305108, Validation ROC AUC=0.8567876790123456\n"
     ]
    },
    {
     "name": "stderr",
     "output_type": "stream",
     "text": [
      "Training: 100%|██████████████████████████████| 5625/5625 [18:00<00:00,  5.21it/s]\n",
      "Evaluating: 100%|████████████████████████████| 1875/1875 [01:30<00:00, 20.78it/s]\n"
     ]
    },
    {
     "name": "stdout",
     "output_type": "stream",
     "text": [
      "Model=efficientnet-b5, Fold 2: Epoch=4, Train Loss=0.16326452650924525, Validation Loss=0.1724708282435934, Validation ROC AUC=0.8649066172839506\n"
     ]
    },
    {
     "name": "stderr",
     "output_type": "stream",
     "text": [
      "Training: 100%|██████████████████████████████| 5625/5625 [18:06<00:00,  5.18it/s]\n",
      "Evaluating: 100%|████████████████████████████| 1875/1875 [01:29<00:00, 20.97it/s]\n"
     ]
    },
    {
     "name": "stdout",
     "output_type": "stream",
     "text": [
      "Model=efficientnet-b5, Fold 3: Epoch=0, Train Loss=0.27140814830164117, Validation Loss=0.22040230455994606, Validation ROC AUC=0.8113152098765433\n"
     ]
    },
    {
     "name": "stderr",
     "output_type": "stream",
     "text": [
      "Training: 100%|██████████████████████████████| 5625/5625 [18:02<00:00,  5.20it/s]\n",
      "Evaluating: 100%|████████████████████████████| 1875/1875 [01:28<00:00, 21.19it/s]\n"
     ]
    },
    {
     "name": "stdout",
     "output_type": "stream",
     "text": [
      "Model=efficientnet-b5, Fold 3: Epoch=1, Train Loss=0.21862459201018017, Validation Loss=0.19815013501644135, Validation ROC AUC=0.8374577283950618\n"
     ]
    },
    {
     "name": "stderr",
     "output_type": "stream",
     "text": [
      "Training: 100%|██████████████████████████████| 5625/5625 [18:01<00:00,  5.20it/s]\n",
      "Evaluating: 100%|████████████████████████████| 1875/1875 [01:28<00:00, 21.14it/s]\n"
     ]
    },
    {
     "name": "stdout",
     "output_type": "stream",
     "text": [
      "Model=efficientnet-b5, Fold 3: Epoch=2, Train Loss=0.19940682612823116, Validation Loss=0.19772406475345294, Validation ROC AUC=0.8265277283950616\n"
     ]
    },
    {
     "name": "stderr",
     "output_type": "stream",
     "text": [
      "Training: 100%|██████████████████████████████| 5625/5625 [18:08<00:00,  5.17it/s]\n",
      "Evaluating: 100%|████████████████████████████| 1875/1875 [01:29<00:00, 20.88it/s]\n"
     ]
    },
    {
     "name": "stdout",
     "output_type": "stream",
     "text": [
      "Model=efficientnet-b5, Fold 3: Epoch=3, Train Loss=0.18924223559002082, Validation Loss=0.18664608175555866, Validation ROC AUC=0.8473897037037037\n"
     ]
    },
    {
     "name": "stderr",
     "output_type": "stream",
     "text": [
      "Training: 100%|██████████████████████████████| 5625/5625 [18:03<00:00,  5.19it/s]\n",
      "Evaluating: 100%|████████████████████████████| 1875/1875 [01:28<00:00, 21.08it/s]\n"
     ]
    },
    {
     "name": "stdout",
     "output_type": "stream",
     "text": [
      "Model=efficientnet-b5, Fold 3: Epoch=4, Train Loss=0.16186802998847433, Validation Loss=0.17408981241832178, Validation ROC AUC=0.8651776790123455\n"
     ]
    },
    {
     "name": "stderr",
     "output_type": "stream",
     "text": [
      "Training: 100%|██████████████████████████████| 5625/5625 [10:56<00:00,  8.56it/s]\n",
      "Evaluating: 100%|████████████████████████████| 1875/1875 [01:15<00:00, 24.94it/s]\n"
     ]
    },
    {
     "name": "stdout",
     "output_type": "stream",
     "text": [
      "Model=efficientnet-b1-augment, Fold 0: Epoch=0, Train Loss=0.2650891830596659, Validation Loss=0.2445745185052355, Validation ROC AUC=0.770993925925926\n"
     ]
    },
    {
     "name": "stderr",
     "output_type": "stream",
     "text": [
      "Training: 100%|██████████████████████████████| 5625/5625 [10:55<00:00,  8.58it/s]\n",
      "Evaluating: 100%|████████████████████████████| 1875/1875 [01:13<00:00, 25.41it/s]\n"
     ]
    },
    {
     "name": "stdout",
     "output_type": "stream",
     "text": [
      "Model=efficientnet-b1-augment, Fold 0: Epoch=1, Train Loss=0.2208675375074148, Validation Loss=0.20917041995127997, Validation ROC AUC=0.810509012345679\n"
     ]
    },
    {
     "name": "stderr",
     "output_type": "stream",
     "text": [
      "Training: 100%|██████████████████████████████| 5625/5625 [10:53<00:00,  8.60it/s]\n",
      "Evaluating: 100%|████████████████████████████| 1875/1875 [01:13<00:00, 25.34it/s]\n"
     ]
    },
    {
     "name": "stdout",
     "output_type": "stream",
     "text": [
      "Model=efficientnet-b1-augment, Fold 0: Epoch=2, Train Loss=0.20958240255216756, Validation Loss=0.20667787942290305, Validation ROC AUC=0.8136924197530865\n"
     ]
    },
    {
     "name": "stderr",
     "output_type": "stream",
     "text": [
      "Training: 100%|██████████████████████████████| 5625/5625 [10:55<00:00,  8.58it/s]\n",
      "Evaluating: 100%|████████████████████████████| 1875/1875 [01:14<00:00, 25.21it/s]\n"
     ]
    },
    {
     "name": "stdout",
     "output_type": "stream",
     "text": [
      "Model=efficientnet-b1-augment, Fold 0: Epoch=3, Train Loss=0.20186243727604547, Validation Loss=0.19451257606744765, Validation ROC AUC=0.8262606172839506\n"
     ]
    },
    {
     "name": "stderr",
     "output_type": "stream",
     "text": [
      "Training: 100%|██████████████████████████████| 5625/5625 [10:55<00:00,  8.58it/s]\n",
      "Evaluating: 100%|████████████████████████████| 1875/1875 [01:13<00:00, 25.35it/s]\n"
     ]
    },
    {
     "name": "stdout",
     "output_type": "stream",
     "text": [
      "Model=efficientnet-b1-augment, Fold 0: Epoch=4, Train Loss=0.18350007145769065, Validation Loss=0.18439381245523692, Validation ROC AUC=0.8478903209876543\n"
     ]
    },
    {
     "name": "stderr",
     "output_type": "stream",
     "text": [
      "Training: 100%|██████████████████████████████| 5625/5625 [10:58<00:00,  8.54it/s]\n",
      "Evaluating: 100%|████████████████████████████| 1875/1875 [01:15<00:00, 24.84it/s]\n"
     ]
    },
    {
     "name": "stdout",
     "output_type": "stream",
     "text": [
      "Model=efficientnet-b1-augment, Fold 1: Epoch=0, Train Loss=0.2791500652227137, Validation Loss=0.24017217064499854, Validation ROC AUC=0.7351622222222223\n"
     ]
    },
    {
     "name": "stderr",
     "output_type": "stream",
     "text": [
      "Training: 100%|██████████████████████████████| 5625/5625 [10:55<00:00,  8.58it/s]\n",
      "Evaluating: 100%|████████████████████████████| 1875/1875 [01:15<00:00, 24.98it/s]\n"
     ]
    },
    {
     "name": "stdout",
     "output_type": "stream",
     "text": [
      "Model=efficientnet-b1-augment, Fold 1: Epoch=1, Train Loss=0.22106067938903967, Validation Loss=0.21087486540873845, Validation ROC AUC=0.8166147654320988\n"
     ]
    },
    {
     "name": "stderr",
     "output_type": "stream",
     "text": [
      "Training: 100%|██████████████████████████████| 5625/5625 [10:54<00:00,  8.59it/s]\n",
      "Evaluating: 100%|████████████████████████████| 1875/1875 [01:16<00:00, 24.58it/s]\n"
     ]
    },
    {
     "name": "stdout",
     "output_type": "stream",
     "text": [
      "Model=efficientnet-b1-augment, Fold 1: Epoch=2, Train Loss=0.2089303582482868, Validation Loss=0.20182214164535203, Validation ROC AUC=0.8207998024691358\n"
     ]
    },
    {
     "name": "stderr",
     "output_type": "stream",
     "text": [
      "Training: 100%|██████████████████████████████| 5625/5625 [11:01<00:00,  8.51it/s]\n",
      "Evaluating: 100%|████████████████████████████| 1875/1875 [01:15<00:00, 24.88it/s]\n"
     ]
    },
    {
     "name": "stdout",
     "output_type": "stream",
     "text": [
      "Model=efficientnet-b1-augment, Fold 1: Epoch=3, Train Loss=0.2004060478064749, Validation Loss=0.19497469536165396, Validation ROC AUC=0.8406649135802469\n"
     ]
    },
    {
     "name": "stderr",
     "output_type": "stream",
     "text": [
      "Training: 100%|██████████████████████████████| 5625/5625 [11:00<00:00,  8.52it/s]\n",
      "Evaluating: 100%|████████████████████████████| 1875/1875 [01:15<00:00, 24.81it/s]\n"
     ]
    },
    {
     "name": "stdout",
     "output_type": "stream",
     "text": [
      "Model=efficientnet-b1-augment, Fold 1: Epoch=4, Train Loss=0.1806069502009286, Validation Loss=0.18480320340444645, Validation ROC AUC=0.8506457777777776\n"
     ]
    },
    {
     "name": "stderr",
     "output_type": "stream",
     "text": [
      "Training: 100%|██████████████████████████████| 5625/5625 [10:56<00:00,  8.57it/s]\n",
      "Evaluating: 100%|████████████████████████████| 1875/1875 [01:13<00:00, 25.59it/s]\n"
     ]
    },
    {
     "name": "stdout",
     "output_type": "stream",
     "text": [
      "Model=efficientnet-b1-augment, Fold 2: Epoch=0, Train Loss=0.28500569097962647, Validation Loss=0.2218531649718682, Validation ROC AUC=0.7993795061728395\n"
     ]
    },
    {
     "name": "stderr",
     "output_type": "stream",
     "text": [
      "Training: 100%|██████████████████████████████| 5625/5625 [10:51<00:00,  8.64it/s]\n",
      "Evaluating: 100%|████████████████████████████| 1875/1875 [01:13<00:00, 25.66it/s]\n"
     ]
    },
    {
     "name": "stdout",
     "output_type": "stream",
     "text": [
      "Model=efficientnet-b1-augment, Fold 2: Epoch=1, Train Loss=0.2299100233995252, Validation Loss=0.20267682423094907, Validation ROC AUC=0.8275273086419752\n"
     ]
    },
    {
     "name": "stderr",
     "output_type": "stream",
     "text": [
      "Training: 100%|██████████████████████████████| 5625/5625 [10:56<00:00,  8.57it/s]\n",
      "Evaluating: 100%|████████████████████████████| 1875/1875 [01:13<00:00, 25.50it/s]\n"
     ]
    },
    {
     "name": "stdout",
     "output_type": "stream",
     "text": [
      "Model=efficientnet-b1-augment, Fold 2: Epoch=2, Train Loss=0.21535129634439945, Validation Loss=0.20097803389529387, Validation ROC AUC=0.8352221481481481\n"
     ]
    },
    {
     "name": "stderr",
     "output_type": "stream",
     "text": [
      "Training: 100%|██████████████████████████████| 5625/5625 [11:01<00:00,  8.50it/s]\n",
      "Evaluating: 100%|████████████████████████████| 1875/1875 [01:13<00:00, 25.41it/s]\n"
     ]
    },
    {
     "name": "stdout",
     "output_type": "stream",
     "text": [
      "Model=efficientnet-b1-augment, Fold 2: Epoch=3, Train Loss=0.2070681369198693, Validation Loss=0.2060242777734995, Validation ROC AUC=0.835810098765432\n"
     ]
    },
    {
     "name": "stderr",
     "output_type": "stream",
     "text": [
      "Training: 100%|██████████████████████████████| 5625/5625 [11:02<00:00,  8.49it/s]\n",
      "Evaluating: 100%|████████████████████████████| 1875/1875 [01:14<00:00, 25.07it/s]\n"
     ]
    },
    {
     "name": "stdout",
     "output_type": "stream",
     "text": [
      "Model=efficientnet-b1-augment, Fold 2: Epoch=4, Train Loss=0.189086821557747, Validation Loss=0.1792468940148751, Validation ROC AUC=0.8570391604938272\n"
     ]
    },
    {
     "name": "stderr",
     "output_type": "stream",
     "text": [
      "Training: 100%|██████████████████████████████| 5625/5625 [10:56<00:00,  8.57it/s]\n",
      "Evaluating: 100%|████████████████████████████| 1875/1875 [01:15<00:00, 24.91it/s]\n"
     ]
    },
    {
     "name": "stdout",
     "output_type": "stream",
     "text": [
      "Model=efficientnet-b1-augment, Fold 3: Epoch=0, Train Loss=0.2661481468637784, Validation Loss=0.21943216929833095, Validation ROC AUC=0.7999182962962963\n"
     ]
    },
    {
     "name": "stderr",
     "output_type": "stream",
     "text": [
      "Training: 100%|██████████████████████████████| 5625/5625 [10:55<00:00,  8.58it/s]\n",
      "Evaluating: 100%|████████████████████████████| 1875/1875 [01:15<00:00, 24.79it/s]\n"
     ]
    },
    {
     "name": "stdout",
     "output_type": "stream",
     "text": [
      "Model=efficientnet-b1-augment, Fold 3: Epoch=1, Train Loss=0.22377079805764888, Validation Loss=0.2070973321745793, Validation ROC AUC=0.820547061728395\n"
     ]
    },
    {
     "name": "stderr",
     "output_type": "stream",
     "text": [
      "Training: 100%|██████████████████████████████| 5625/5625 [10:53<00:00,  8.60it/s]\n",
      "Evaluating: 100%|████████████████████████████| 1875/1875 [01:14<00:00, 25.25it/s]\n"
     ]
    },
    {
     "name": "stdout",
     "output_type": "stream",
     "text": [
      "Model=efficientnet-b1-augment, Fold 3: Epoch=2, Train Loss=0.21428007679416072, Validation Loss=0.19917493742803732, Validation ROC AUC=0.8344979012345679\n"
     ]
    },
    {
     "name": "stderr",
     "output_type": "stream",
     "text": [
      "Training: 100%|██████████████████████████████| 5625/5625 [10:54<00:00,  8.59it/s]\n",
      "Evaluating: 100%|████████████████████████████| 1875/1875 [01:14<00:00, 25.11it/s]\n"
     ]
    },
    {
     "name": "stdout",
     "output_type": "stream",
     "text": [
      "Model=efficientnet-b1-augment, Fold 3: Epoch=3, Train Loss=0.2058750940511624, Validation Loss=0.2049140937288602, Validation ROC AUC=0.8192264938271605\n"
     ]
    },
    {
     "name": "stderr",
     "output_type": "stream",
     "text": [
      "Training: 100%|██████████████████████████████| 5625/5625 [11:02<00:00,  8.49it/s]\n",
      "Evaluating: 100%|████████████████████████████| 1875/1875 [01:15<00:00, 24.99it/s]\n"
     ]
    },
    {
     "name": "stdout",
     "output_type": "stream",
     "text": [
      "Model=efficientnet-b1-augment, Fold 3: Epoch=4, Train Loss=0.18659451845453845, Validation Loss=0.18202764919151862, Validation ROC AUC=0.8538020493827161\n"
     ]
    },
    {
     "name": "stderr",
     "output_type": "stream",
     "text": [
      "Training: 100%|██████████████████████████████| 5625/5625 [12:26<00:00,  7.54it/s]\n",
      "Evaluating: 100%|████████████████████████████| 1875/1875 [01:16<00:00, 24.44it/s]\n"
     ]
    },
    {
     "name": "stdout",
     "output_type": "stream",
     "text": [
      "Model=efficientnet-b3-augment, Fold 0: Epoch=0, Train Loss=0.25800638631449807, Validation Loss=0.2265631480485201, Validation ROC AUC=0.7808316296296297\n"
     ]
    },
    {
     "name": "stderr",
     "output_type": "stream",
     "text": [
      "Training: 100%|██████████████████████████████| 5625/5625 [12:22<00:00,  7.58it/s]\n",
      "Evaluating: 100%|████████████████████████████| 1875/1875 [01:15<00:00, 24.92it/s]\n"
     ]
    },
    {
     "name": "stdout",
     "output_type": "stream",
     "text": [
      "Model=efficientnet-b3-augment, Fold 0: Epoch=1, Train Loss=0.21962460575501125, Validation Loss=0.20177997847398121, Validation ROC AUC=0.8212361481481483\n"
     ]
    },
    {
     "name": "stderr",
     "output_type": "stream",
     "text": [
      "Training: 100%|██████████████████████████████| 5625/5625 [12:24<00:00,  7.56it/s]\n",
      "Evaluating: 100%|████████████████████████████| 1875/1875 [01:14<00:00, 25.03it/s]\n"
     ]
    },
    {
     "name": "stdout",
     "output_type": "stream",
     "text": [
      "Model=efficientnet-b3-augment, Fold 0: Epoch=2, Train Loss=0.20983585259368023, Validation Loss=0.2014632053822279, Validation ROC AUC=0.8265960987654322\n"
     ]
    },
    {
     "name": "stderr",
     "output_type": "stream",
     "text": [
      "Training: 100%|██████████████████████████████| 5625/5625 [12:23<00:00,  7.56it/s]\n",
      "Evaluating: 100%|████████████████████████████| 1875/1875 [01:15<00:00, 24.84it/s]\n"
     ]
    },
    {
     "name": "stdout",
     "output_type": "stream",
     "text": [
      "Model=efficientnet-b3-augment, Fold 0: Epoch=3, Train Loss=0.19914422836105028, Validation Loss=0.19397526713709037, Validation ROC AUC=0.8346437283950618\n"
     ]
    },
    {
     "name": "stderr",
     "output_type": "stream",
     "text": [
      "Training: 100%|██████████████████████████████| 5625/5625 [12:27<00:00,  7.53it/s]\n",
      "Evaluating: 100%|████████████████████████████| 1875/1875 [01:17<00:00, 24.34it/s]\n"
     ]
    },
    {
     "name": "stdout",
     "output_type": "stream",
     "text": [
      "Model=efficientnet-b3-augment, Fold 0: Epoch=4, Train Loss=0.17973969660566913, Validation Loss=0.18475884274592003, Validation ROC AUC=0.8451373827160493\n"
     ]
    },
    {
     "name": "stderr",
     "output_type": "stream",
     "text": [
      "Training: 100%|██████████████████████████████| 5625/5625 [12:23<00:00,  7.57it/s]\n",
      "Evaluating: 100%|████████████████████████████| 1875/1875 [01:16<00:00, 24.63it/s]\n"
     ]
    },
    {
     "name": "stdout",
     "output_type": "stream",
     "text": [
      "Model=efficientnet-b3-augment, Fold 1: Epoch=0, Train Loss=0.27196593445638817, Validation Loss=0.22039627966682115, Validation ROC AUC=0.7901585925925927\n"
     ]
    },
    {
     "name": "stderr",
     "output_type": "stream",
     "text": [
      "Training: 100%|██████████████████████████████| 5625/5625 [12:22<00:00,  7.57it/s]\n",
      "Evaluating: 100%|████████████████████████████| 1875/1875 [01:15<00:00, 24.96it/s]\n"
     ]
    },
    {
     "name": "stdout",
     "output_type": "stream",
     "text": [
      "Model=efficientnet-b3-augment, Fold 1: Epoch=1, Train Loss=0.22266448965006405, Validation Loss=0.20633914141207935, Validation ROC AUC=0.8187290123456791\n"
     ]
    },
    {
     "name": "stderr",
     "output_type": "stream",
     "text": [
      "Training: 100%|██████████████████████████████| 5625/5625 [12:21<00:00,  7.59it/s]\n",
      "Evaluating: 100%|████████████████████████████| 1875/1875 [01:15<00:00, 24.68it/s]\n"
     ]
    },
    {
     "name": "stdout",
     "output_type": "stream",
     "text": [
      "Model=efficientnet-b3-augment, Fold 1: Epoch=2, Train Loss=0.2079348264624675, Validation Loss=0.20599251933693885, Validation ROC AUC=0.8144948888888889\n"
     ]
    },
    {
     "name": "stderr",
     "output_type": "stream",
     "text": [
      "Training: 100%|██████████████████████████████| 5625/5625 [12:22<00:00,  7.57it/s]\n",
      "Evaluating: 100%|████████████████████████████| 1875/1875 [01:14<00:00, 25.04it/s]\n"
     ]
    },
    {
     "name": "stdout",
     "output_type": "stream",
     "text": [
      "Model=efficientnet-b3-augment, Fold 1: Epoch=3, Train Loss=0.19968906670014064, Validation Loss=0.2039472708831231, Validation ROC AUC=0.8374615308641975\n"
     ]
    },
    {
     "name": "stderr",
     "output_type": "stream",
     "text": [
      "Training: 100%|██████████████████████████████| 5625/5625 [12:24<00:00,  7.55it/s]\n",
      "Evaluating: 100%|████████████████████████████| 1875/1875 [01:14<00:00, 25.10it/s]\n"
     ]
    },
    {
     "name": "stdout",
     "output_type": "stream",
     "text": [
      "Model=efficientnet-b3-augment, Fold 1: Epoch=4, Train Loss=0.1809335797816515, Validation Loss=0.18370601827700933, Validation ROC AUC=0.8543753580246913\n"
     ]
    },
    {
     "name": "stderr",
     "output_type": "stream",
     "text": [
      "Training: 100%|██████████████████████████████| 5625/5625 [12:28<00:00,  7.52it/s]\n",
      "Evaluating: 100%|████████████████████████████| 1875/1875 [01:16<00:00, 24.43it/s]\n"
     ]
    },
    {
     "name": "stdout",
     "output_type": "stream",
     "text": [
      "Model=efficientnet-b3-augment, Fold 2: Epoch=0, Train Loss=0.27434664382769003, Validation Loss=0.22139536984662214, Validation ROC AUC=0.8085370370370369\n"
     ]
    },
    {
     "name": "stderr",
     "output_type": "stream",
     "text": [
      "Training: 100%|██████████████████████████████| 5625/5625 [12:27<00:00,  7.52it/s]\n",
      "Evaluating: 100%|████████████████████████████| 1875/1875 [01:22<00:00, 22.68it/s]\n"
     ]
    },
    {
     "name": "stdout",
     "output_type": "stream",
     "text": [
      "Model=efficientnet-b3-augment, Fold 2: Epoch=1, Train Loss=0.22606169452766578, Validation Loss=0.19912523124019305, Validation ROC AUC=0.8279619259259259\n"
     ]
    },
    {
     "name": "stderr",
     "output_type": "stream",
     "text": [
      "Training: 100%|██████████████████████████████| 5625/5625 [12:26<00:00,  7.53it/s]\n",
      "Evaluating: 100%|████████████████████████████| 1875/1875 [01:15<00:00, 24.68it/s]\n"
     ]
    },
    {
     "name": "stdout",
     "output_type": "stream",
     "text": [
      "Model=efficientnet-b3-augment, Fold 2: Epoch=2, Train Loss=0.21398194219039546, Validation Loss=0.19294845300018787, Validation ROC AUC=0.840357111111111\n"
     ]
    },
    {
     "name": "stderr",
     "output_type": "stream",
     "text": [
      "Training: 100%|██████████████████████████████| 5625/5625 [12:24<00:00,  7.56it/s]\n",
      "Evaluating: 100%|████████████████████████████| 1875/1875 [01:15<00:00, 24.70it/s]\n"
     ]
    },
    {
     "name": "stdout",
     "output_type": "stream",
     "text": [
      "Model=efficientnet-b3-augment, Fold 2: Epoch=3, Train Loss=0.2061477277096775, Validation Loss=0.1895081112374862, Validation ROC AUC=0.8485595308641976\n"
     ]
    },
    {
     "name": "stderr",
     "output_type": "stream",
     "text": [
      "Training: 100%|██████████████████████████████| 5625/5625 [12:24<00:00,  7.56it/s]\n",
      "Evaluating: 100%|████████████████████████████| 1875/1875 [01:15<00:00, 24.69it/s]\n"
     ]
    },
    {
     "name": "stdout",
     "output_type": "stream",
     "text": [
      "Model=efficientnet-b3-augment, Fold 2: Epoch=4, Train Loss=0.186693301438623, Validation Loss=0.176529374460876, Validation ROC AUC=0.8607124197530864\n"
     ]
    },
    {
     "name": "stderr",
     "output_type": "stream",
     "text": [
      "Training: 100%|██████████████████████████████| 5625/5625 [12:20<00:00,  7.60it/s]\n",
      "Evaluating: 100%|████████████████████████████| 1875/1875 [01:17<00:00, 24.30it/s]\n"
     ]
    },
    {
     "name": "stdout",
     "output_type": "stream",
     "text": [
      "Model=efficientnet-b3-augment, Fold 3: Epoch=0, Train Loss=0.2736252878765265, Validation Loss=0.23347241073052089, Validation ROC AUC=0.7806510617283952\n"
     ]
    },
    {
     "name": "stderr",
     "output_type": "stream",
     "text": [
      "Training: 100%|██████████████████████████████| 5625/5625 [12:23<00:00,  7.57it/s]\n",
      "Evaluating: 100%|████████████████████████████| 1875/1875 [01:15<00:00, 24.73it/s]\n"
     ]
    },
    {
     "name": "stdout",
     "output_type": "stream",
     "text": [
      "Model=efficientnet-b3-augment, Fold 3: Epoch=1, Train Loss=0.22231279510127175, Validation Loss=0.21009244824051856, Validation ROC AUC=0.8269794567901234\n"
     ]
    },
    {
     "name": "stderr",
     "output_type": "stream",
     "text": [
      "Training: 100%|██████████████████████████████| 5625/5625 [12:23<00:00,  7.57it/s]\n",
      "Evaluating: 100%|████████████████████████████| 1875/1875 [01:15<00:00, 24.83it/s]\n"
     ]
    },
    {
     "name": "stdout",
     "output_type": "stream",
     "text": [
      "Model=efficientnet-b3-augment, Fold 3: Epoch=2, Train Loss=0.20791524673203626, Validation Loss=0.19364985930919648, Validation ROC AUC=0.8443942469135803\n"
     ]
    },
    {
     "name": "stderr",
     "output_type": "stream",
     "text": [
      "Training: 100%|██████████████████████████████| 5625/5625 [12:24<00:00,  7.56it/s]\n",
      "Evaluating: 100%|████████████████████████████| 1875/1875 [01:15<00:00, 24.75it/s]\n"
     ]
    },
    {
     "name": "stdout",
     "output_type": "stream",
     "text": [
      "Model=efficientnet-b3-augment, Fold 3: Epoch=3, Train Loss=0.20111395281056563, Validation Loss=0.19042293151915074, Validation ROC AUC=0.8431078271604938\n"
     ]
    },
    {
     "name": "stderr",
     "output_type": "stream",
     "text": [
      "Training: 100%|██████████████████████████████| 5625/5625 [12:23<00:00,  7.56it/s]\n",
      "Evaluating: 100%|████████████████████████████| 1875/1875 [01:17<00:00, 24.22it/s]\n"
     ]
    },
    {
     "name": "stdout",
     "output_type": "stream",
     "text": [
      "Model=efficientnet-b3-augment, Fold 3: Epoch=4, Train Loss=0.1836906537198358, Validation Loss=0.17697804886798063, Validation ROC AUC=0.861215851851852\n"
     ]
    },
    {
     "name": "stderr",
     "output_type": "stream",
     "text": [
      "Training: 100%|██████████████████████████████| 5625/5625 [17:56<00:00,  5.22it/s]\n",
      "Evaluating: 100%|████████████████████████████| 1875/1875 [01:29<00:00, 20.95it/s]\n"
     ]
    },
    {
     "name": "stdout",
     "output_type": "stream",
     "text": [
      "Model=efficientnet-b5-augment, Fold 0: Epoch=0, Train Loss=0.27949645336204104, Validation Loss=0.2312486167649428, Validation ROC AUC=0.7772968148148147\n"
     ]
    },
    {
     "name": "stderr",
     "output_type": "stream",
     "text": [
      "Training: 100%|██████████████████████████████| 5625/5625 [17:59<00:00,  5.21it/s]\n",
      "Evaluating: 100%|████████████████████████████| 1875/1875 [01:29<00:00, 20.95it/s]\n"
     ]
    },
    {
     "name": "stdout",
     "output_type": "stream",
     "text": [
      "Model=efficientnet-b5-augment, Fold 0: Epoch=1, Train Loss=0.22586338335888254, Validation Loss=0.2132300372838974, Validation ROC AUC=0.8151666666666666\n"
     ]
    },
    {
     "name": "stderr",
     "output_type": "stream",
     "text": [
      "Training: 100%|██████████████████████████████| 5625/5625 [18:06<00:00,  5.18it/s]\n",
      "Evaluating: 100%|████████████████████████████| 1875/1875 [01:29<00:00, 20.84it/s]\n"
     ]
    },
    {
     "name": "stdout",
     "output_type": "stream",
     "text": [
      "Model=efficientnet-b5-augment, Fold 0: Epoch=2, Train Loss=0.21361776005460156, Validation Loss=0.20564662013252577, Validation ROC AUC=0.8256261728395062\n"
     ]
    },
    {
     "name": "stderr",
     "output_type": "stream",
     "text": [
      "Training: 100%|██████████████████████████████| 5625/5625 [18:08<00:00,  5.17it/s]\n",
      "Evaluating: 100%|████████████████████████████| 1875/1875 [01:28<00:00, 21.09it/s]\n"
     ]
    },
    {
     "name": "stdout",
     "output_type": "stream",
     "text": [
      "Model=efficientnet-b5-augment, Fold 0: Epoch=3, Train Loss=0.20354935578521755, Validation Loss=0.19490416763424873, Validation ROC AUC=0.8340154567901235\n"
     ]
    },
    {
     "name": "stderr",
     "output_type": "stream",
     "text": [
      "Training: 100%|██████████████████████████████| 5625/5625 [18:02<00:00,  5.19it/s]\n",
      "Evaluating: 100%|████████████████████████████| 1875/1875 [01:29<00:00, 21.02it/s]\n"
     ]
    },
    {
     "name": "stdout",
     "output_type": "stream",
     "text": [
      "Model=efficientnet-b5-augment, Fold 0: Epoch=4, Train Loss=0.18150661847260263, Validation Loss=0.18320747052530448, Validation ROC AUC=0.8475624197530864\n"
     ]
    },
    {
     "name": "stderr",
     "output_type": "stream",
     "text": [
      "Training: 100%|██████████████████████████████| 5625/5625 [18:01<00:00,  5.20it/s]\n",
      "Evaluating: 100%|████████████████████████████| 1875/1875 [01:29<00:00, 20.96it/s]\n"
     ]
    },
    {
     "name": "stdout",
     "output_type": "stream",
     "text": [
      "Model=efficientnet-b5-augment, Fold 1: Epoch=0, Train Loss=0.2763906651486953, Validation Loss=0.26576575517257056, Validation ROC AUC=0.7399678518518519\n"
     ]
    },
    {
     "name": "stderr",
     "output_type": "stream",
     "text": [
      "Training: 100%|██████████████████████████████| 5625/5625 [18:03<00:00,  5.19it/s]\n",
      "Evaluating: 100%|████████████████████████████| 1875/1875 [01:28<00:00, 21.14it/s]\n"
     ]
    },
    {
     "name": "stdout",
     "output_type": "stream",
     "text": [
      "Model=efficientnet-b5-augment, Fold 1: Epoch=1, Train Loss=0.22828237134797705, Validation Loss=0.2141649120658636, Validation ROC AUC=0.8178805679012346\n"
     ]
    },
    {
     "name": "stderr",
     "output_type": "stream",
     "text": [
      "Training: 100%|██████████████████████████████| 5625/5625 [18:02<00:00,  5.20it/s]\n",
      "Evaluating: 100%|████████████████████████████| 1875/1875 [01:29<00:00, 20.88it/s]\n"
     ]
    },
    {
     "name": "stdout",
     "output_type": "stream",
     "text": [
      "Model=efficientnet-b5-augment, Fold 1: Epoch=2, Train Loss=0.21204373894035816, Validation Loss=0.19999719627797605, Validation ROC AUC=0.8325651604938271\n"
     ]
    },
    {
     "name": "stderr",
     "output_type": "stream",
     "text": [
      "Training: 100%|██████████████████████████████| 5625/5625 [18:06<00:00,  5.18it/s]\n",
      "Evaluating: 100%|████████████████████████████| 1875/1875 [01:31<00:00, 20.44it/s]\n"
     ]
    },
    {
     "name": "stdout",
     "output_type": "stream",
     "text": [
      "Model=efficientnet-b5-augment, Fold 1: Epoch=3, Train Loss=0.20456905145247778, Validation Loss=0.2106184075516959, Validation ROC AUC=0.8347486172839507\n"
     ]
    },
    {
     "name": "stderr",
     "output_type": "stream",
     "text": [
      "Training: 100%|██████████████████████████████| 5625/5625 [18:09<00:00,  5.17it/s]\n",
      "Evaluating: 100%|████████████████████████████| 1875/1875 [01:31<00:00, 20.52it/s]\n"
     ]
    },
    {
     "name": "stdout",
     "output_type": "stream",
     "text": [
      "Model=efficientnet-b5-augment, Fold 1: Epoch=4, Train Loss=0.1839071499781476, Validation Loss=0.18195138379385073, Validation ROC AUC=0.8524590617283951\n"
     ]
    },
    {
     "name": "stderr",
     "output_type": "stream",
     "text": [
      "Training: 100%|██████████████████████████████| 5625/5625 [18:06<00:00,  5.18it/s]\n",
      "Evaluating: 100%|████████████████████████████| 1875/1875 [01:31<00:00, 20.55it/s]\n"
     ]
    },
    {
     "name": "stdout",
     "output_type": "stream",
     "text": [
      "Model=efficientnet-b5-augment, Fold 2: Epoch=0, Train Loss=0.277269064880742, Validation Loss=0.26787969570557274, Validation ROC AUC=0.7845159753086419\n"
     ]
    },
    {
     "name": "stderr",
     "output_type": "stream",
     "text": [
      "Training: 100%|██████████████████████████████| 5625/5625 [18:01<00:00,  5.20it/s]\n",
      "Evaluating: 100%|████████████████████████████| 1875/1875 [01:31<00:00, 20.57it/s]\n"
     ]
    },
    {
     "name": "stdout",
     "output_type": "stream",
     "text": [
      "Model=efficientnet-b5-augment, Fold 2: Epoch=1, Train Loss=0.23080530890060796, Validation Loss=0.20219132899840672, Validation ROC AUC=0.8263195555555556\n"
     ]
    },
    {
     "name": "stderr",
     "output_type": "stream",
     "text": [
      "Training: 100%|██████████████████████████████| 5625/5625 [18:01<00:00,  5.20it/s]\n",
      "Evaluating: 100%|████████████████████████████| 1875/1875 [01:29<00:00, 20.94it/s]\n"
     ]
    },
    {
     "name": "stdout",
     "output_type": "stream",
     "text": [
      "Model=efficientnet-b5-augment, Fold 2: Epoch=2, Train Loss=0.21550455721980996, Validation Loss=0.2059334972411394, Validation ROC AUC=0.8430939259259259\n"
     ]
    },
    {
     "name": "stderr",
     "output_type": "stream",
     "text": [
      "Training: 100%|██████████████████████████████| 5625/5625 [18:00<00:00,  5.21it/s]\n",
      "Evaluating: 100%|████████████████████████████| 1875/1875 [01:28<00:00, 21.09it/s]\n"
     ]
    },
    {
     "name": "stdout",
     "output_type": "stream",
     "text": [
      "Model=efficientnet-b5-augment, Fold 2: Epoch=3, Train Loss=0.20593434601889715, Validation Loss=0.18739241333305837, Validation ROC AUC=0.8494765925925926\n"
     ]
    },
    {
     "name": "stderr",
     "output_type": "stream",
     "text": [
      "Training: 100%|██████████████████████████████| 5625/5625 [18:02<00:00,  5.20it/s]\n",
      "Evaluating: 100%|████████████████████████████| 1875/1875 [01:29<00:00, 21.02it/s]\n"
     ]
    },
    {
     "name": "stdout",
     "output_type": "stream",
     "text": [
      "Model=efficientnet-b5-augment, Fold 2: Epoch=4, Train Loss=0.1840415066483948, Validation Loss=0.17700774667561053, Validation ROC AUC=0.8600960740740742\n"
     ]
    },
    {
     "name": "stderr",
     "output_type": "stream",
     "text": [
      "Training: 100%|██████████████████████████████| 5625/5625 [18:04<00:00,  5.18it/s]\n",
      "Evaluating: 100%|████████████████████████████| 1875/1875 [01:29<00:00, 20.97it/s]\n"
     ]
    },
    {
     "name": "stdout",
     "output_type": "stream",
     "text": [
      "Model=efficientnet-b5-augment, Fold 3: Epoch=0, Train Loss=0.2837517554183801, Validation Loss=0.24925336183508237, Validation ROC AUC=0.7628433333333333\n"
     ]
    },
    {
     "name": "stderr",
     "output_type": "stream",
     "text": [
      "Training: 100%|██████████████████████████████| 5625/5625 [18:03<00:00,  5.19it/s]\n",
      "Evaluating: 100%|████████████████████████████| 1875/1875 [01:28<00:00, 21.17it/s]\n"
     ]
    },
    {
     "name": "stdout",
     "output_type": "stream",
     "text": [
      "Model=efficientnet-b5-augment, Fold 3: Epoch=1, Train Loss=0.23440379992028076, Validation Loss=0.2104502365887165, Validation ROC AUC=0.8080923703703704\n"
     ]
    },
    {
     "name": "stderr",
     "output_type": "stream",
     "text": [
      "Training: 100%|██████████████████████████████| 5625/5625 [18:02<00:00,  5.19it/s]\n",
      "Evaluating: 100%|████████████████████████████| 1875/1875 [01:29<00:00, 20.91it/s]\n"
     ]
    },
    {
     "name": "stdout",
     "output_type": "stream",
     "text": [
      "Model=efficientnet-b5-augment, Fold 3: Epoch=2, Train Loss=0.21949890020572477, Validation Loss=0.21113405541479588, Validation ROC AUC=0.8247586913580245\n"
     ]
    },
    {
     "name": "stderr",
     "output_type": "stream",
     "text": [
      "Training: 100%|██████████████████████████████| 5625/5625 [18:11<00:00,  5.15it/s]\n",
      "Evaluating: 100%|████████████████████████████| 1875/1875 [01:29<00:00, 20.94it/s]\n"
     ]
    },
    {
     "name": "stdout",
     "output_type": "stream",
     "text": [
      "Model=efficientnet-b5-augment, Fold 3: Epoch=3, Train Loss=0.2077318740222189, Validation Loss=0.19768093334039052, Validation ROC AUC=0.8383075802469137\n"
     ]
    },
    {
     "name": "stderr",
     "output_type": "stream",
     "text": [
      "Training: 100%|██████████████████████████████| 5625/5625 [18:02<00:00,  5.20it/s]\n",
      "Evaluating: 100%|████████████████████████████| 1875/1875 [01:30<00:00, 20.83it/s]\n"
     ]
    },
    {
     "name": "stdout",
     "output_type": "stream",
     "text": [
      "Model=efficientnet-b5-augment, Fold 3: Epoch=4, Train Loss=0.18761032343804837, Validation Loss=0.1790681666230162, Validation ROC AUC=0.8568913086419754\n",
      "finished\n"
     ]
    }
   ],
   "source": [
    "it = 0\n",
    "\n",
    "for model in starter_models:\n",
    "    best_roc_auc = 0\n",
    "    fold = 0\n",
    "    for train_index, test_index in skf.split(X, Y):\n",
    "        \n",
    "        # Second half - augmented images\n",
    "        if it > 2:\n",
    "            train_augment = A.Compose([\n",
    "                        A.VerticalFlip(p=0.5),\n",
    "                        # CoarseDropout because Cutout is deprecated - works the same way\n",
    "                        A.CoarseDropout(max_height=int(512 * 0.1), max_width=int(512 * 0.1), max_holes=5, p=0.5),\n",
    "                        ])\n",
    "        # First half - without augmentation\n",
    "        else:\n",
    "            train_augment = None\n",
    "        \n",
    "        starter_models = [enetv2(baseline_name[0], pretrained=True, out_dim=1),\n",
    "                          enetv2(baseline_name[1], pretrained=True, out_dim=1),\n",
    "                          enetv2(baseline_name[2], pretrained=True, out_dim=1)]\n",
    "        \n",
    "        model = starter_models[it % 3]\n",
    "        model.to(device)\n",
    "\n",
    "        train_images, valid_images = X[train_index], X[test_index]\n",
    "        train_targets, valid_targets = Y[train_index], Y[test_index]\n",
    "\n",
    "        train_dataset = ClassificationDataset(image_paths=train_images, targets=train_targets, augment=train_augment)\n",
    "        valid_dataset = ClassificationDataset(image_paths=valid_images, targets=valid_targets, augment=None)\n",
    "        train_loader = torch.utils.data.DataLoader(train_dataset, batch_size=Batch_Size,shuffle=True, num_workers=4)\n",
    "        valid_loader = torch.utils.data.DataLoader(valid_dataset, batch_size=Batch_Size,shuffle=False, num_workers=4)\n",
    "\n",
    "        optimizer = torch.optim.Adam(model.parameters(), lr=learn_rate)\n",
    "        \n",
    "        row = 0\n",
    "        last_loss = 0\n",
    "        train_loss = 10\n",
    "        \n",
    "        \n",
    "        for epoch in range(epochs):\n",
    "            if epoch == 4:\n",
    "                for param_group in optimizer.param_groups:\n",
    "                    param_group[\"lr\"] = 1e-4\n",
    "                    \n",
    "            train_loss = train(train_loader, model, optimizer, device=device)\n",
    "            predictions, valid_targets, valid_loss = evaluate(valid_loader, model, device=device)\n",
    "            roc_auc = metrics.roc_auc_score(valid_targets, predictions)\n",
    "            \n",
    "            train_losses[it][fold].append(train_loss) \n",
    "            valid_losses[it][fold].append(valid_loss)\n",
    "            aurocs[it][fold].append(roc_auc)\n",
    "            \n",
    "            if roc_auc > best_roc_auc:\n",
    "                best_roc_auc = roc_auc\n",
    "\n",
    "            print(f\"Model={names[it]}, Fold {fold}: Epoch={epoch}, Train Loss={train_loss}, Validation Loss={valid_loss}, Validation ROC AUC={roc_auc}\")\n",
    "            with codecs.open('results.log', 'a') as up:\n",
    "                up.write(f\"Model={names[it]}, Fold={fold}, Epoch={epoch}, Valid ROC AUC={roc_auc}/{best_roc_auc}\\n\")\n",
    "\n",
    "            if roc_auc > best_roc_auc:\n",
    "                print(f\"New best AUROC: Model={names[it]}, Fold {fold}: Epoch={epoch}, Validation ROC AUC={roc_auc}\")\n",
    "                torch.save(model.state_dict(), baseline_name + '-' + str(fold) + '-' + str(epoch) + '.pt')\n",
    "                best_roc_auc = roc_auc\n",
    "\n",
    "        models.append(model)\n",
    "        fold += 1\n",
    "    it += 1\n",
    "    \n",
    "print('finished')"
   ]
  },
  {
   "cell_type": "code",
   "execution_count": 13,
   "id": "6592175e",
   "metadata": {
    "scrolled": true
   },
   "outputs": [],
   "source": [
    "# Export Aurocs numpy array\n",
    "np.save('aurocs.npy', np.array(aurocs))"
   ]
  },
  {
   "cell_type": "code",
   "execution_count": 14,
   "id": "f130cae4",
   "metadata": {
    "scrolled": true
   },
   "outputs": [
    {
     "data": {
      "text/plain": [
       "6"
      ]
     },
     "execution_count": 14,
     "metadata": {},
     "output_type": "execute_result"
    }
   ],
   "source": [
    "#aurocs = np.load('aurocs.npy', allow_pickle=True)\n",
    "len(aurocs)"
   ]
  },
  {
   "cell_type": "code",
   "execution_count": 15,
   "id": "4f5925d3",
   "metadata": {},
   "outputs": [],
   "source": [
    "#ab = np.load('train_losses.npy', allow_pickle=True)\n",
    "\n",
    "#aurocs_mean = copy.deepcopy(aurocs)\n",
    "#aurocs_max = copy.deepcopy(aurocs)\n",
    "\n",
    "aurocs_mean = np.zeros((len(aurocs),folds))\n",
    "aurocs_max = np.zeros((len(aurocs),folds))\n",
    "\n",
    "\n",
    "for i in range(len(aurocs)):\n",
    "    for j in range(folds):\n",
    "        aurocs_mean[i][j] = np.mean(aurocs[i][j])\n",
    "        aurocs_max[i][j] = np.max(aurocs[i][j])"
   ]
  },
  {
   "cell_type": "code",
   "execution_count": 16,
   "id": "446523e9",
   "metadata": {
    "scrolled": false
   },
   "outputs": [
    {
     "data": {
      "image/png": "[encoded data removed]",
      "text/plain": [
       "<Figure size 576x432 with 1 Axes>"
      ]
     },
     "metadata": {
      "needs_background": "light"
     },
     "output_type": "display_data"
    },
    {
     "data": {
      "image/png": "[encoded data removed]",
      "text/plain": [
       "<Figure size 576x432 with 1 Axes>"
      ]
     },
     "metadata": {
      "needs_background": "light"
     },
     "output_type": "display_data"
    }
   ],
   "source": [
    "plt.figure(figsize=(8,6))\n",
    "for j in range(len(aurocs)):\n",
    "    plt.plot(range(1, len(aurocs[j]) + 1), aurocs_mean[j], label=names[j], marker=\".\")\n",
    "plt.xlabel(\"Folds\")\n",
    "plt.ylabel(\"AUROC\")\n",
    "plt.xticks(np.arange(1, len(aurocs[j]) + 1, step=1))\n",
    "plt.legend()\n",
    "plt.title(f\"Mean Validation AUROC over Folds of Model {names[j]}\");\n",
    "\n",
    "plt.figure(figsize=(8,6))\n",
    "for j in range(len(aurocs)):\n",
    "    plt.plot(range(1, len(aurocs[j]) + 1), aurocs_max[j], label=names[j], marker=\".\")\n",
    "plt.xlabel(\"Folds\")\n",
    "plt.ylabel(\"AUROC\")\n",
    "plt.xticks(np.arange(1, len(aurocs[j]) + 1, step=1))\n",
    "plt.legend()\n",
    "plt.title(f\"Max Validation AUROC over Folds of Model {names[j]}\");\n",
    "\n"
   ]
  },
  {
   "cell_type": "code",
   "execution_count": 18,
   "id": "533148e1",
   "metadata": {},
   "outputs": [
    {
     "name": "stdout",
     "output_type": "stream",
     "text": [
      "Batch Size 8\n",
      "\n",
      "Model efficientnet-b1\n",
      "Fold 0, mean AUROC: 0.8238728592592592, best AUROC: 0.8466271111111111\n",
      "Fold 1, mean AUROC: 0.8303301135802469, best AUROC: 0.8587872839506174\n",
      "Fold 2, mean AUROC: 0.8402130864197531, best AUROC: 0.860559975308642\n",
      "Fold 3, mean AUROC: 0.8371809827160493, best AUROC: 0.8613042469135803\n",
      "\n",
      "Model efficientnet-b3\n",
      "Fold 0, mean AUROC: 0.8321969037037038, best AUROC: 0.8545532345679012\n",
      "Fold 1, mean AUROC: 0.8231802913580248, best AUROC: 0.8529624197530865\n",
      "Fold 2, mean AUROC: 0.8421035851851851, best AUROC: 0.863399950617284\n",
      "Fold 3, mean AUROC: 0.8304528098765432, best AUROC: 0.8579388641975308\n",
      "\n",
      "Model efficientnet-b5\n",
      "Fold 0, mean AUROC: 0.8366041086419752, best AUROC: 0.8562941234567901\n",
      "Fold 1, mean AUROC: 0.8227234913580247, best AUROC: 0.850075925925926\n",
      "Fold 2, mean AUROC: 0.841051925925926, best AUROC: 0.8649066172839506\n",
      "Fold 3, mean AUROC: 0.8375736098765433, best AUROC: 0.8651776790123455\n",
      "\n",
      "Model efficientnet-b1-augment\n",
      "Fold 0, mean AUROC: 0.8138692592592592, best AUROC: 0.8478903209876543\n",
      "Fold 1, mean AUROC: 0.8127774962962964, best AUROC: 0.8506457777777776\n",
      "Fold 2, mean AUROC: 0.8309956444444444, best AUROC: 0.8570391604938272\n",
      "Fold 3, mean AUROC: 0.8255983604938273, best AUROC: 0.8538020493827161\n",
      "\n",
      "Model efficientnet-b3-augment\n",
      "Fold 0, mean AUROC: 0.8216889975308643, best AUROC: 0.8451373827160493\n",
      "Fold 1, mean AUROC: 0.8230438765432098, best AUROC: 0.8543753580246913\n",
      "Fold 2, mean AUROC: 0.8372256049382717, best AUROC: 0.8607124197530864\n",
      "Fold 3, mean AUROC: 0.8312696888888889, best AUROC: 0.861215851851852\n",
      "\n",
      "Model efficientnet-b5-augment\n",
      "Fold 0, mean AUROC: 0.8199335061728394, best AUROC: 0.8475624197530864\n",
      "Fold 1, mean AUROC: 0.8155242518518518, best AUROC: 0.8524590617283951\n",
      "Fold 2, mean AUROC: 0.832700424691358, best AUROC: 0.8600960740740742\n",
      "Fold 3, mean AUROC: 0.8181786567901235, best AUROC: 0.8568913086419754\n"
     ]
    }
   ],
   "source": [
    "print(f\"Batch Size {Batch_Size}\")\n",
    "for i in range(len(aurocs)):\n",
    "    print(f\"\\nModel {names[i]}\")\n",
    "    for j in range(folds):\n",
    "        print(f\"Fold {j}, mean AUROC: {np.mean(aurocs[i][j])}, best AUROC: {np.max(aurocs[i][j])}\")"
   ]
  },
  {
   "cell_type": "code",
   "execution_count": null,
   "id": "87c49ce5",
   "metadata": {},
   "outputs": [],
   "source": []
  }
 ],
 "metadata": {
  "kernelspec": {
   "display_name": "Python 3 (ipykernel)",
   "language": "python",
   "name": "python3"
  },
  "language_info": {
   "codemirror_mode": {
    "name": "ipython",
    "version": 3
   },
   "file_extension": ".py",
   "mimetype": "text/x-python",
   "name": "python",
   "nbconvert_exporter": "python",
   "pygments_lexer": "ipython3",
   "version": "3.9.7"
  }
 },
 "nbformat": 4,
 "nbformat_minor": 5
}
