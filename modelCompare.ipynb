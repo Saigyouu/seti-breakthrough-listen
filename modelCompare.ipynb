{
 "cells": [
  {
   "cell_type": "markdown",
   "id": "d4572529",
   "metadata": {},
   "source": [
    "# Comparison between different models for the Kaggle challenge \"SETI Breakthrough Listen\" "
   ]
  },
  {
   "cell_type": "code",
   "execution_count": 1,
   "id": "6a3e99db",
   "metadata": {},
   "outputs": [],
   "source": [
    "import os\n",
    "import pandas as pd\n",
    "import numpy as np\n",
    "from sklearn import metrics\n",
    "from tqdm import tqdm\n",
    "import matplotlib.pyplot as plt\n",
    "import seaborn as sn\n",
    "import torch\n",
    "import torch.nn as nn\n",
    "import torch.nn.functional as F\n",
    "import random\n",
    "import albumentations as A\n",
    "from efficientnet_pytorch import model as enet\n",
    "from sklearn.model_selection import train_test_split\n",
    "from sklearn.model_selection import StratifiedKFold\n",
    "import codecs\n",
    "from PIL import Image\n",
    "import copy"
   ]
  },
  {
   "cell_type": "code",
   "execution_count": 2,
   "id": "232be237",
   "metadata": {},
   "outputs": [],
   "source": [
    "def set_seed(seed = 0):\n",
    "    '''Sets the seed of the entire notebook so results are the same every time we run.\n",
    "    This is for REPRODUCIBILITY.'''\n",
    "    np.random.seed(seed)\n",
    "    random_state = np.random.RandomState(seed)\n",
    "    random.seed(seed)\n",
    "    torch.manual_seed(seed)\n",
    "    torch.cuda.manual_seed(seed)\n",
    "    torch.backends.cudnn.deterministic = True\n",
    "    torch.backends.cudnn.benchmark = False\n",
    "    os.environ['PYTHONHASHSEED'] = str(seed)\n",
    "    return random_state\n",
    "\n",
    "random_state = set_seed(2021)"
   ]
  },
  {
   "cell_type": "code",
   "execution_count": 3,
   "id": "530d74cf",
   "metadata": {},
   "outputs": [
    {
     "name": "stdout",
     "output_type": "stream",
     "text": [
      "GPU is available\n"
     ]
    }
   ],
   "source": [
    "if torch.cuda.is_available():\n",
    "    device = torch.device(\"cuda\")\n",
    "    print(\"GPU is available\")\n",
    "else:\n",
    "    device = torch.device(\"cpu\")\n",
    "    print(\"GPU not available, CPU used\")"
   ]
  },
  {
   "cell_type": "markdown",
   "id": "ad1cd47b",
   "metadata": {},
   "source": [
    "### Load the Train labels and create a mapping between the id and the path to the image"
   ]
  },
  {
   "cell_type": "code",
   "execution_count": 4,
   "id": "7dce456e",
   "metadata": {
    "scrolled": true
   },
   "outputs": [
    {
     "data": {
      "text/html": [
       "<div>\n",
       "<style scoped>\n",
       "    .dataframe tbody tr th:only-of-type {\n",
       "        vertical-align: middle;\n",
       "    }\n",
       "\n",
       "    .dataframe tbody tr th {\n",
       "        vertical-align: top;\n",
       "    }\n",
       "\n",
       "    .dataframe thead th {\n",
       "        text-align: right;\n",
       "    }\n",
       "</style>\n",
       "<table border=\"1\" class=\"dataframe\">\n",
       "  <thead>\n",
       "    <tr style=\"text-align: right;\">\n",
       "      <th></th>\n",
       "      <th>id</th>\n",
       "      <th>target</th>\n",
       "    </tr>\n",
       "  </thead>\n",
       "  <tbody>\n",
       "    <tr>\n",
       "      <th>0</th>\n",
       "      <td>0000799a2b2c42d</td>\n",
       "      <td>0</td>\n",
       "    </tr>\n",
       "    <tr>\n",
       "      <th>1</th>\n",
       "      <td>00042890562ff68</td>\n",
       "      <td>0</td>\n",
       "    </tr>\n",
       "    <tr>\n",
       "      <th>2</th>\n",
       "      <td>0005364cdcb8e5b</td>\n",
       "      <td>0</td>\n",
       "    </tr>\n",
       "    <tr>\n",
       "      <th>3</th>\n",
       "      <td>0007a5a46901c56</td>\n",
       "      <td>0</td>\n",
       "    </tr>\n",
       "    <tr>\n",
       "      <th>4</th>\n",
       "      <td>0009283e145448e</td>\n",
       "      <td>0</td>\n",
       "    </tr>\n",
       "  </tbody>\n",
       "</table>\n",
       "</div>"
      ],
      "text/plain": [
       "                id  target\n",
       "0  0000799a2b2c42d       0\n",
       "1  00042890562ff68       0\n",
       "2  0005364cdcb8e5b       0\n",
       "3  0007a5a46901c56       0\n",
       "4  0009283e145448e       0"
      ]
     },
     "execution_count": 4,
     "metadata": {},
     "output_type": "execute_result"
    }
   ],
   "source": [
    "df_train=pd.read_csv('./train_labels.csv')\n",
    "df_train.head()"
   ]
  },
  {
   "cell_type": "code",
   "execution_count": 5,
   "id": "23fcf629",
   "metadata": {
    "scrolled": false
   },
   "outputs": [
    {
     "data": {
      "text/html": [
       "<div>\n",
       "<style scoped>\n",
       "    .dataframe tbody tr th:only-of-type {\n",
       "        vertical-align: middle;\n",
       "    }\n",
       "\n",
       "    .dataframe tbody tr th {\n",
       "        vertical-align: top;\n",
       "    }\n",
       "\n",
       "    .dataframe thead th {\n",
       "        text-align: right;\n",
       "    }\n",
       "</style>\n",
       "<table border=\"1\" class=\"dataframe\">\n",
       "  <thead>\n",
       "    <tr style=\"text-align: right;\">\n",
       "      <th></th>\n",
       "      <th>id</th>\n",
       "      <th>target</th>\n",
       "      <th>img_path</th>\n",
       "    </tr>\n",
       "  </thead>\n",
       "  <tbody>\n",
       "    <tr>\n",
       "      <th>0</th>\n",
       "      <td>0000799a2b2c42d</td>\n",
       "      <td>0</td>\n",
       "      <td>./train/0/0000799a2b2c42d.npy</td>\n",
       "    </tr>\n",
       "    <tr>\n",
       "      <th>1</th>\n",
       "      <td>00042890562ff68</td>\n",
       "      <td>0</td>\n",
       "      <td>./train/0/00042890562ff68.npy</td>\n",
       "    </tr>\n",
       "    <tr>\n",
       "      <th>2</th>\n",
       "      <td>0005364cdcb8e5b</td>\n",
       "      <td>0</td>\n",
       "      <td>./train/0/0005364cdcb8e5b.npy</td>\n",
       "    </tr>\n",
       "    <tr>\n",
       "      <th>3</th>\n",
       "      <td>0007a5a46901c56</td>\n",
       "      <td>0</td>\n",
       "      <td>./train/0/0007a5a46901c56.npy</td>\n",
       "    </tr>\n",
       "    <tr>\n",
       "      <th>4</th>\n",
       "      <td>0009283e145448e</td>\n",
       "      <td>0</td>\n",
       "      <td>./train/0/0009283e145448e.npy</td>\n",
       "    </tr>\n",
       "  </tbody>\n",
       "</table>\n",
       "</div>"
      ],
      "text/plain": [
       "                id  target                       img_path\n",
       "0  0000799a2b2c42d       0  ./train/0/0000799a2b2c42d.npy\n",
       "1  00042890562ff68       0  ./train/0/00042890562ff68.npy\n",
       "2  0005364cdcb8e5b       0  ./train/0/0005364cdcb8e5b.npy\n",
       "3  0007a5a46901c56       0  ./train/0/0007a5a46901c56.npy\n",
       "4  0009283e145448e       0  ./train/0/0009283e145448e.npy"
      ]
     },
     "execution_count": 5,
     "metadata": {},
     "output_type": "execute_result"
    }
   ],
   "source": [
    "df_train['img_path']=df_train['id'].apply(lambda x:f'./train/{x[0]}/{x}.npy')\n",
    "df_train.head()"
   ]
  },
  {
   "cell_type": "code",
   "execution_count": 6,
   "id": "17dc3ef4",
   "metadata": {
    "scrolled": true
   },
   "outputs": [
    {
     "data": {
      "image/png": "[encoded data removed]",
      "text/plain": [
       "<Figure size 1152x360 with 1 Axes>"
      ]
     },
     "metadata": {
      "needs_background": "light"
     },
     "output_type": "display_data"
    }
   ],
   "source": [
    "plt.figure(figsize=(16, 5))\n",
    "sn.countplot(y=\"target\", data=df_train)\n",
    "plt.title(\"Target Distribution\");"
   ]
  },
  {
   "cell_type": "markdown",
   "id": "eec7910e",
   "metadata": {},
   "source": [
    "### Define the Dataset and the Neural Network classes"
   ]
  },
  {
   "cell_type": "code",
   "execution_count": 7,
   "id": "7d97fab8",
   "metadata": {},
   "outputs": [],
   "source": [
    "class ClassificationDataset:\n",
    "    \n",
    "    def __init__(self, image_paths, targets, augment=None): \n",
    "        self.image_paths = image_paths\n",
    "        self.targets = targets\n",
    "        self.augment = augment\n",
    "        self.transform = transform\n",
    "\n",
    "    def __len__(self):\n",
    "        return len(self.image_paths)\n",
    "    \n",
    "    def __getitem__(self, item):      \n",
    "        image = np.load(self.image_paths[item]).astype(float)\n",
    "        \n",
    "        targets = self.targets[item]\n",
    "        \n",
    "        # Image Preprocessing: Stack vertically, transpose and resize to 512 x 512 \n",
    "        \n",
    "        image = np.vstack(image).transpose((1, 0))\n",
    "        img_pl = Image.fromarray(image).resize((512, 512), resample=Image.BICUBIC)\n",
    "        image = np.array(img_pl)\n",
    "            \n",
    "        # Augmentation\n",
    "        if self.augment:\n",
    "            image = self.augment(image=image)['image']\n",
    "                \n",
    "        return {\n",
    "            \"image\": torch.from_numpy(image).unsqueeze(dim=0),\n",
    "            \"targets\": torch.tensor(targets, dtype=torch.long),\n",
    "        }"
   ]
  },
  {
   "cell_type": "code",
   "execution_count": 8,
   "id": "f5b34c62",
   "metadata": {},
   "outputs": [],
   "source": [
    "class enetv2(nn.Module):\n",
    "    def __init__(self, backbone, pretrained=False, out_dim=1):\n",
    "        super(enetv2, self).__init__()\n",
    "        self.enet = enet.EfficientNet.from_name(backbone)\n",
    "        if pretrained:\n",
    "            self.enet.load_state_dict(torch.load(pretrained_model[backbone]))\n",
    "        self.myfc = nn.Linear(self.enet._fc.in_features, out_dim)\n",
    "        self.enet._fc = nn.Identity()\n",
    "        self.conv1Norm = nn.Conv2d(1, 32, kernel_size=3, stride=1, padding=3, bias=False)\n",
    "        self.poolNorm = nn.MaxPool2d(2, 2)\n",
    "        self.conv2Norm = nn.Conv2d(32, 3, kernel_size=3, bias=False)\n",
    "\n",
    "    def extract(self, x):\n",
    "        return self.enet(x)\n",
    "\n",
    "    def forward(self, x):\n",
    "        x = self.conv1Norm(x)\n",
    "        x = self.poolNorm(x)\n",
    "        x = self.conv2Norm(x)\n",
    "        x = self.extract(x)\n",
    "        x = self.myfc(x)\n",
    "        return x"
   ]
  },
  {
   "cell_type": "markdown",
   "id": "75fa1155",
   "metadata": {},
   "source": [
    "### Define train and evaluation function"
   ]
  },
  {
   "cell_type": "code",
   "execution_count": 9,
   "id": "5d40ac51",
   "metadata": {},
   "outputs": [],
   "source": [
    "def train(data_loader, model, optimizer, device):\n",
    "    \n",
    "    model.train()\n",
    "    running_loss = 0\n",
    "    i = 0\n",
    "    \n",
    "    for data in tqdm(data_loader, position=0, leave=True, desc='Training'):\n",
    "        i += 1\n",
    "        inputs = data[\"image\"]\n",
    "        targets = data['targets']\n",
    "        \n",
    "        # Cast\n",
    "        inputs = inputs.to(device, dtype=torch.float)\n",
    "        targets = targets.to(device, dtype=torch.float)\n",
    "        \n",
    "        optimizer.zero_grad()\n",
    "        outputs = model(inputs) # Output Weights\n",
    "        loss = nn.BCEWithLogitsLoss()(outputs, targets.view(-1, 1)) # Loss calculation\n",
    "        loss.backward()\n",
    "        optimizer.step()\n",
    "        \n",
    "        running_loss += loss.item()\n",
    "        \n",
    "    return running_loss / i\n",
    "        \n",
    "def evaluate(data_loader, model, device):\n",
    "    model.eval() # Sets to evaluation mode\n",
    "    \n",
    "    final_targets = []\n",
    "    final_outputs = []\n",
    "    \n",
    "    with torch.no_grad():\n",
    "        running_loss = 0\n",
    "        i = 0\n",
    "        \n",
    "        for data in tqdm(data_loader, position=0, leave=True, desc='Evaluating'):\n",
    "            inputs = data[\"image\"]\n",
    "            targets = data[\"targets\"]\n",
    "            inputs = inputs.to(device, dtype=torch.float)\n",
    "            targets = targets.to(device, dtype=torch.float)\n",
    "            \n",
    "            output = model(inputs)\n",
    "            \n",
    "            running_loss += nn.BCEWithLogitsLoss()(output, targets.view(-1, 1)).item()\n",
    "            \n",
    "            targets = targets.detach().cpu().numpy().tolist()\n",
    "            output = output.detach().cpu().numpy().tolist()\n",
    "            \n",
    "            final_targets.extend(targets)\n",
    "            final_outputs.extend(output)\n",
    "            \n",
    "    return final_outputs, final_targets, running_loss / i"
   ]
  },
  {
   "cell_type": "code",
   "execution_count": 13,
   "id": "a06a0622",
   "metadata": {},
   "outputs": [],
   "source": [
    "baseline_name = ['efficientnet-b1', 'efficientnet-b3', 'efficientnet-b5'] # Neural Networks to use\n",
    "pretrained_model = {\n",
    "    baseline_name[0]: './checkpoint/efficientnet-b1-dbc7070a.pth', # Pretrained models\n",
    "    baseline_name[1]: './checkpoint/efficientnet-b3-c8376fa2.pth',\n",
    "    baseline_name[2]: './checkpoint/efficientnet-b5-586e6cc6.pth'\n",
    "}\n",
    "models = []\n",
    "device = \"cuda\"\n",
    "Batch_Size = 16\n",
    "X = df_train.img_path.values\n",
    "Y = df_train.target.values\n",
    "skf = StratifiedKFold(n_splits=5) # Cross Validation 5-fold, mehrschichtig (stratified)\n",
    "# -> https://scikit-learn.org/stable/auto_examples/model_selection/plot_cv_indices.html#sphx-glr-auto-examples-model-selection-plot-cv-indices-py)\n",
    "\n",
    "starter_models = [enetv2(baseline_name[0], pretrained=True, out_dim=1),\n",
    "                          enetv2(baseline_name[1], pretrained=True, out_dim=1),\n",
    "                          enetv2(baseline_name[2], pretrained=True, out_dim=1)]\n",
    "\n",
    "names = ['efficientnet-b1', 'efficientnet-b3', 'efficientnet-b5']\n",
    "\n",
    "epochs = 5\n",
    "train_losses = [[[] for i in range(5)] for i in names]\n",
    "valid_losses = [[[] for i in range(5)] for i in names]\n",
    "aurocs = [[[] for i in range(5)] for i in names]\n",
    "\n",
    "it = 0"
   ]
  },
  {
   "cell_type": "code",
   "execution_count": 14,
   "id": "dab85bde",
   "metadata": {},
   "outputs": [],
   "source": [
    "#create log file\n",
    "codecs.open('results.log', 'w+');"
   ]
  },
  {
   "cell_type": "code",
   "execution_count": 58,
   "id": "22d82780",
   "metadata": {
    "scrolled": false
   },
   "outputs": [
    {
     "name": "stderr",
     "output_type": "stream",
     "text": [
      "Training:   0%|                                                                                                                                                                                    | 0/3000 [00:00<?, ?it/s]\n"
     ]
    },
    {
     "ename": "FileNotFoundError",
     "evalue": "Caught FileNotFoundError in DataLoader worker process 0.\nOriginal Traceback (most recent call last):\n  File \"/home/gala/.conda/envs/seti/lib/python3.7/site-packages/torch/utils/data/_utils/worker.py\", line 198, in _worker_loop\n    data = fetcher.fetch(index)\n  File \"/home/gala/.conda/envs/seti/lib/python3.7/site-packages/torch/utils/data/_utils/fetch.py\", line 44, in fetch\n    data = [self.dataset[idx] for idx in possibly_batched_index]\n  File \"/home/gala/.conda/envs/seti/lib/python3.7/site-packages/torch/utils/data/_utils/fetch.py\", line 44, in <listcomp>\n    data = [self.dataset[idx] for idx in possibly_batched_index]\n  File \"/tmp/ipykernel_3946/3684302831.py\", line 13, in __getitem__\n    image = np.load(self.image_paths[item]).astype(float)\n  File \"/home/gala/.conda/envs/seti/lib/python3.7/site-packages/numpy/lib/npyio.py\", line 417, in load\n    fid = stack.enter_context(open(os_fspath(file), \"rb\"))\nFileNotFoundError: [Errno 2] No such file or directory: './train/f/f5d07dfaac96ec7.npy'\n",
     "output_type": "error",
     "traceback": [
      "\u001b[0;31m---------------------------------------------------------------------------\u001b[0m",
      "\u001b[0;31mFileNotFoundError\u001b[0m                         Traceback (most recent call last)",
      "\u001b[0;32m/tmp/ipykernel_3946/2015474340.py\u001b[0m in \u001b[0;36m<module>\u001b[0;34m\u001b[0m\n\u001b[1;32m     37\u001b[0m                     \u001b[0mparam_group\u001b[0m\u001b[0;34m[\u001b[0m\u001b[0;34m\"lr\"\u001b[0m\u001b[0;34m]\u001b[0m \u001b[0;34m=\u001b[0m \u001b[0;36m1e-4\u001b[0m\u001b[0;34m\u001b[0m\u001b[0;34m\u001b[0m\u001b[0m\n\u001b[1;32m     38\u001b[0m \u001b[0;34m\u001b[0m\u001b[0m\n\u001b[0;32m---> 39\u001b[0;31m             \u001b[0mtrain_loss\u001b[0m \u001b[0;34m=\u001b[0m \u001b[0mtrain\u001b[0m\u001b[0;34m(\u001b[0m\u001b[0mtrain_loader\u001b[0m\u001b[0;34m,\u001b[0m \u001b[0mmodel\u001b[0m\u001b[0;34m,\u001b[0m \u001b[0moptimizer\u001b[0m\u001b[0;34m,\u001b[0m \u001b[0mdevice\u001b[0m\u001b[0;34m=\u001b[0m\u001b[0mdevice\u001b[0m\u001b[0;34m)\u001b[0m\u001b[0;34m\u001b[0m\u001b[0;34m\u001b[0m\u001b[0m\n\u001b[0m\u001b[1;32m     40\u001b[0m             \u001b[0mpredictions\u001b[0m\u001b[0;34m,\u001b[0m \u001b[0mvalid_targets\u001b[0m\u001b[0;34m,\u001b[0m \u001b[0mvalid_loss\u001b[0m \u001b[0;34m=\u001b[0m \u001b[0mevaluate\u001b[0m\u001b[0;34m(\u001b[0m\u001b[0mvalid_loader\u001b[0m\u001b[0;34m,\u001b[0m \u001b[0mmodel\u001b[0m\u001b[0;34m,\u001b[0m \u001b[0mdevice\u001b[0m\u001b[0;34m=\u001b[0m\u001b[0mdevice\u001b[0m\u001b[0;34m)\u001b[0m\u001b[0;34m\u001b[0m\u001b[0;34m\u001b[0m\u001b[0m\n\u001b[1;32m     41\u001b[0m             \u001b[0mroc_auc\u001b[0m \u001b[0;34m=\u001b[0m \u001b[0mmetrics\u001b[0m\u001b[0;34m.\u001b[0m\u001b[0mroc_auc_score\u001b[0m\u001b[0;34m(\u001b[0m\u001b[0mvalid_targets\u001b[0m\u001b[0;34m,\u001b[0m \u001b[0mpredictions\u001b[0m\u001b[0;34m)\u001b[0m\u001b[0;34m\u001b[0m\u001b[0;34m\u001b[0m\u001b[0m\n",
      "\u001b[0;32m/tmp/ipykernel_3946/2625632841.py\u001b[0m in \u001b[0;36mtrain\u001b[0;34m(data_loader, model, optimizer, device)\u001b[0m\n\u001b[1;32m      5\u001b[0m     \u001b[0mi\u001b[0m \u001b[0;34m=\u001b[0m \u001b[0;36m0\u001b[0m\u001b[0;34m\u001b[0m\u001b[0;34m\u001b[0m\u001b[0m\n\u001b[1;32m      6\u001b[0m \u001b[0;34m\u001b[0m\u001b[0m\n\u001b[0;32m----> 7\u001b[0;31m     \u001b[0;32mfor\u001b[0m \u001b[0mdata\u001b[0m \u001b[0;32min\u001b[0m \u001b[0mtqdm\u001b[0m\u001b[0;34m(\u001b[0m\u001b[0mdata_loader\u001b[0m\u001b[0;34m,\u001b[0m \u001b[0mposition\u001b[0m\u001b[0;34m=\u001b[0m\u001b[0;36m0\u001b[0m\u001b[0;34m,\u001b[0m \u001b[0mleave\u001b[0m\u001b[0;34m=\u001b[0m\u001b[0;32mTrue\u001b[0m\u001b[0;34m,\u001b[0m \u001b[0mdesc\u001b[0m\u001b[0;34m=\u001b[0m\u001b[0;34m'Training'\u001b[0m\u001b[0;34m)\u001b[0m\u001b[0;34m:\u001b[0m\u001b[0;34m\u001b[0m\u001b[0;34m\u001b[0m\u001b[0m\n\u001b[0m\u001b[1;32m      8\u001b[0m         \u001b[0mi\u001b[0m \u001b[0;34m+=\u001b[0m \u001b[0;36m1\u001b[0m\u001b[0;34m\u001b[0m\u001b[0;34m\u001b[0m\u001b[0m\n\u001b[1;32m      9\u001b[0m         \u001b[0minputs\u001b[0m \u001b[0;34m=\u001b[0m \u001b[0mdata\u001b[0m\u001b[0;34m[\u001b[0m\u001b[0;34m\"image\"\u001b[0m\u001b[0;34m]\u001b[0m\u001b[0;34m\u001b[0m\u001b[0;34m\u001b[0m\u001b[0m\n",
      "\u001b[0;32m~/.conda/envs/seti/lib/python3.7/site-packages/tqdm/std.py\u001b[0m in \u001b[0;36m__iter__\u001b[0;34m(self)\u001b[0m\n\u001b[1;32m   1178\u001b[0m \u001b[0;34m\u001b[0m\u001b[0m\n\u001b[1;32m   1179\u001b[0m         \u001b[0;32mtry\u001b[0m\u001b[0;34m:\u001b[0m\u001b[0;34m\u001b[0m\u001b[0;34m\u001b[0m\u001b[0m\n\u001b[0;32m-> 1180\u001b[0;31m             \u001b[0;32mfor\u001b[0m \u001b[0mobj\u001b[0m \u001b[0;32min\u001b[0m \u001b[0miterable\u001b[0m\u001b[0;34m:\u001b[0m\u001b[0;34m\u001b[0m\u001b[0;34m\u001b[0m\u001b[0m\n\u001b[0m\u001b[1;32m   1181\u001b[0m                 \u001b[0;32myield\u001b[0m \u001b[0mobj\u001b[0m\u001b[0;34m\u001b[0m\u001b[0;34m\u001b[0m\u001b[0m\n\u001b[1;32m   1182\u001b[0m                 \u001b[0;31m# Update and possibly print the progressbar.\u001b[0m\u001b[0;34m\u001b[0m\u001b[0;34m\u001b[0m\u001b[0;34m\u001b[0m\u001b[0m\n",
      "\u001b[0;32m~/.conda/envs/seti/lib/python3.7/site-packages/torch/utils/data/dataloader.py\u001b[0m in \u001b[0;36m__next__\u001b[0;34m(self)\u001b[0m\n\u001b[1;32m    433\u001b[0m         \u001b[0;32mif\u001b[0m \u001b[0mself\u001b[0m\u001b[0;34m.\u001b[0m\u001b[0m_sampler_iter\u001b[0m \u001b[0;32mis\u001b[0m \u001b[0;32mNone\u001b[0m\u001b[0;34m:\u001b[0m\u001b[0;34m\u001b[0m\u001b[0;34m\u001b[0m\u001b[0m\n\u001b[1;32m    434\u001b[0m             \u001b[0mself\u001b[0m\u001b[0;34m.\u001b[0m\u001b[0m_reset\u001b[0m\u001b[0;34m(\u001b[0m\u001b[0;34m)\u001b[0m\u001b[0;34m\u001b[0m\u001b[0;34m\u001b[0m\u001b[0m\n\u001b[0;32m--> 435\u001b[0;31m         \u001b[0mdata\u001b[0m \u001b[0;34m=\u001b[0m \u001b[0mself\u001b[0m\u001b[0;34m.\u001b[0m\u001b[0m_next_data\u001b[0m\u001b[0;34m(\u001b[0m\u001b[0;34m)\u001b[0m\u001b[0;34m\u001b[0m\u001b[0;34m\u001b[0m\u001b[0m\n\u001b[0m\u001b[1;32m    436\u001b[0m         \u001b[0mself\u001b[0m\u001b[0;34m.\u001b[0m\u001b[0m_num_yielded\u001b[0m \u001b[0;34m+=\u001b[0m \u001b[0;36m1\u001b[0m\u001b[0;34m\u001b[0m\u001b[0;34m\u001b[0m\u001b[0m\n\u001b[1;32m    437\u001b[0m         \u001b[0;32mif\u001b[0m \u001b[0mself\u001b[0m\u001b[0;34m.\u001b[0m\u001b[0m_dataset_kind\u001b[0m \u001b[0;34m==\u001b[0m \u001b[0m_DatasetKind\u001b[0m\u001b[0;34m.\u001b[0m\u001b[0mIterable\u001b[0m \u001b[0;32mand\u001b[0m\u001b[0;31m \u001b[0m\u001b[0;31m\\\u001b[0m\u001b[0;34m\u001b[0m\u001b[0;34m\u001b[0m\u001b[0m\n",
      "\u001b[0;32m~/.conda/envs/seti/lib/python3.7/site-packages/torch/utils/data/dataloader.py\u001b[0m in \u001b[0;36m_next_data\u001b[0;34m(self)\u001b[0m\n\u001b[1;32m   1083\u001b[0m             \u001b[0;32melse\u001b[0m\u001b[0;34m:\u001b[0m\u001b[0;34m\u001b[0m\u001b[0;34m\u001b[0m\u001b[0m\n\u001b[1;32m   1084\u001b[0m                 \u001b[0;32mdel\u001b[0m \u001b[0mself\u001b[0m\u001b[0;34m.\u001b[0m\u001b[0m_task_info\u001b[0m\u001b[0;34m[\u001b[0m\u001b[0midx\u001b[0m\u001b[0;34m]\u001b[0m\u001b[0;34m\u001b[0m\u001b[0;34m\u001b[0m\u001b[0m\n\u001b[0;32m-> 1085\u001b[0;31m                 \u001b[0;32mreturn\u001b[0m \u001b[0mself\u001b[0m\u001b[0;34m.\u001b[0m\u001b[0m_process_data\u001b[0m\u001b[0;34m(\u001b[0m\u001b[0mdata\u001b[0m\u001b[0;34m)\u001b[0m\u001b[0;34m\u001b[0m\u001b[0;34m\u001b[0m\u001b[0m\n\u001b[0m\u001b[1;32m   1086\u001b[0m \u001b[0;34m\u001b[0m\u001b[0m\n\u001b[1;32m   1087\u001b[0m     \u001b[0;32mdef\u001b[0m \u001b[0m_try_put_index\u001b[0m\u001b[0;34m(\u001b[0m\u001b[0mself\u001b[0m\u001b[0;34m)\u001b[0m\u001b[0;34m:\u001b[0m\u001b[0;34m\u001b[0m\u001b[0;34m\u001b[0m\u001b[0m\n",
      "\u001b[0;32m~/.conda/envs/seti/lib/python3.7/site-packages/torch/utils/data/dataloader.py\u001b[0m in \u001b[0;36m_process_data\u001b[0;34m(self, data)\u001b[0m\n\u001b[1;32m   1109\u001b[0m         \u001b[0mself\u001b[0m\u001b[0;34m.\u001b[0m\u001b[0m_try_put_index\u001b[0m\u001b[0;34m(\u001b[0m\u001b[0;34m)\u001b[0m\u001b[0;34m\u001b[0m\u001b[0;34m\u001b[0m\u001b[0m\n\u001b[1;32m   1110\u001b[0m         \u001b[0;32mif\u001b[0m \u001b[0misinstance\u001b[0m\u001b[0;34m(\u001b[0m\u001b[0mdata\u001b[0m\u001b[0;34m,\u001b[0m \u001b[0mExceptionWrapper\u001b[0m\u001b[0;34m)\u001b[0m\u001b[0;34m:\u001b[0m\u001b[0;34m\u001b[0m\u001b[0;34m\u001b[0m\u001b[0m\n\u001b[0;32m-> 1111\u001b[0;31m             \u001b[0mdata\u001b[0m\u001b[0;34m.\u001b[0m\u001b[0mreraise\u001b[0m\u001b[0;34m(\u001b[0m\u001b[0;34m)\u001b[0m\u001b[0;34m\u001b[0m\u001b[0;34m\u001b[0m\u001b[0m\n\u001b[0m\u001b[1;32m   1112\u001b[0m         \u001b[0;32mreturn\u001b[0m \u001b[0mdata\u001b[0m\u001b[0;34m\u001b[0m\u001b[0;34m\u001b[0m\u001b[0m\n\u001b[1;32m   1113\u001b[0m \u001b[0;34m\u001b[0m\u001b[0m\n",
      "\u001b[0;32m~/.conda/envs/seti/lib/python3.7/site-packages/torch/_utils.py\u001b[0m in \u001b[0;36mreraise\u001b[0;34m(self)\u001b[0m\n\u001b[1;32m    426\u001b[0m             \u001b[0;31m# have message field\u001b[0m\u001b[0;34m\u001b[0m\u001b[0;34m\u001b[0m\u001b[0;34m\u001b[0m\u001b[0m\n\u001b[1;32m    427\u001b[0m             \u001b[0;32mraise\u001b[0m \u001b[0mself\u001b[0m\u001b[0;34m.\u001b[0m\u001b[0mexc_type\u001b[0m\u001b[0;34m(\u001b[0m\u001b[0mmessage\u001b[0m\u001b[0;34m=\u001b[0m\u001b[0mmsg\u001b[0m\u001b[0;34m)\u001b[0m\u001b[0;34m\u001b[0m\u001b[0;34m\u001b[0m\u001b[0m\n\u001b[0;32m--> 428\u001b[0;31m         \u001b[0;32mraise\u001b[0m \u001b[0mself\u001b[0m\u001b[0;34m.\u001b[0m\u001b[0mexc_type\u001b[0m\u001b[0;34m(\u001b[0m\u001b[0mmsg\u001b[0m\u001b[0;34m)\u001b[0m\u001b[0;34m\u001b[0m\u001b[0;34m\u001b[0m\u001b[0m\n\u001b[0m\u001b[1;32m    429\u001b[0m \u001b[0;34m\u001b[0m\u001b[0m\n\u001b[1;32m    430\u001b[0m \u001b[0;34m\u001b[0m\u001b[0m\n",
      "\u001b[0;31mFileNotFoundError\u001b[0m: Caught FileNotFoundError in DataLoader worker process 0.\nOriginal Traceback (most recent call last):\n  File \"/home/gala/.conda/envs/seti/lib/python3.7/site-packages/torch/utils/data/_utils/worker.py\", line 198, in _worker_loop\n    data = fetcher.fetch(index)\n  File \"/home/gala/.conda/envs/seti/lib/python3.7/site-packages/torch/utils/data/_utils/fetch.py\", line 44, in fetch\n    data = [self.dataset[idx] for idx in possibly_batched_index]\n  File \"/home/gala/.conda/envs/seti/lib/python3.7/site-packages/torch/utils/data/_utils/fetch.py\", line 44, in <listcomp>\n    data = [self.dataset[idx] for idx in possibly_batched_index]\n  File \"/tmp/ipykernel_3946/3684302831.py\", line 13, in __getitem__\n    image = np.load(self.image_paths[item]).astype(float)\n  File \"/home/gala/.conda/envs/seti/lib/python3.7/site-packages/numpy/lib/npyio.py\", line 417, in load\n    fid = stack.enter_context(open(os_fspath(file), \"rb\"))\nFileNotFoundError: [Errno 2] No such file or directory: './train/f/f5d07dfaac96ec7.npy'\n"
     ]
    }
   ],
   "source": [
    "for model in starter_models:\n",
    "    best_roc_auc = 0\n",
    "    fold = 0\n",
    "    for train_index, test_index in skf.split(X, Y):\n",
    "        \n",
    "        train_augment = A.Compose([\n",
    "                        A.VerticalFlip(p=0.5),\n",
    "                        # CoarseDropout because Cutout is deprecated - works the same way\n",
    "                        A.CoarseDropout(max_height=int(512 * 0.1), max_width=int(512 * 0.1), max_holes=5, p=0.5),\n",
    "                        ])\n",
    "        \n",
    "        starter_models = [enetv2(baseline_name[0], pretrained=True, out_dim=1),\n",
    "                          enetv2(baseline_name[1], pretrained=True, out_dim=1),\n",
    "                          enetv2(baseline_name[2], pretrained=True, out_dim=1)]\n",
    "        \n",
    "        model = starter_models[it]\n",
    "        model.to(device)\n",
    "\n",
    "        train_images, valid_images = X[train_index], X[test_index]\n",
    "        train_targets, valid_targets = Y[train_index], Y[test_index]\n",
    "\n",
    "        train_dataset = ClassificationDataset(image_paths=train_images, targets=train_targets, augment=train_augment)\n",
    "        valid_dataset = ClassificationDataset(image_paths=valid_images, targets=valid_targets, augment=None)\n",
    "        train_loader = torch.utils.data.DataLoader(train_dataset, batch_size=Batch_Size,shuffle=True, num_workers=4)\n",
    "        valid_loader = torch.utils.data.DataLoader(valid_dataset, batch_size=Batch_Size,shuffle=False, num_workers=4)\n",
    "\n",
    "        optimizer = torch.optim.Adam(model.parameters(), lr=1e-3)\n",
    "        \n",
    "        row = 0\n",
    "        last_loss = 0\n",
    "        train_loss = 10\n",
    "        \n",
    "        \n",
    "        for epoch in range(epochs):\n",
    "            if epoch == 4:\n",
    "                for param_group in optimizer.param_groups:\n",
    "                    param_group[\"lr\"] = 1e-4\n",
    "                    \n",
    "            train_loss = train(train_loader, model, optimizer, device=device)\n",
    "            predictions, valid_targets, valid_loss = evaluate(valid_loader, model, device=device)\n",
    "            roc_auc = metrics.roc_auc_score(valid_targets, predictions)\n",
    "            \n",
    "            train_losses[it][fold].append(train_loss) \n",
    "            valid_losses[it][fold].append(valid_loss)\n",
    "            aurocs[it][fold].append(roc_auc)\n",
    "            \n",
    "            if roc_auc > best_roc_auc:\n",
    "                best_roc_auc = roc_auc\n",
    "\n",
    "            print(f\"Model={names[it]}, Fold {fold}: Epoch={epoch}, Train Loss={train_loss}, Validation Loss={valid_loss}, Validation ROC AUC={roc_auc}\")\n",
    "            with codecs.open('results.log', 'a') as up:\n",
    "                up.write(f\"Model={names[it]}, Fold={fold}, Epoch={epoch}, Valid ROC AUC={roc_auc}/{best_roc_auc}\\n\")\n",
    "\n",
    "            if roc_auc > best_roc_auc:\n",
    "                print(f\"New best AUROC: Model={names[it]}, Fold {fold}: Epoch={epoch}, Validation ROC AUC={roc_auc}\")\n",
    "                torch.save(model.state_dict(), baseline_name + '-' + str(fold) + '-' + str(epoch) + '.pt')\n",
    "                best_roc_auc = roc_auc\n",
    "\n",
    "        models.append(model)\n",
    "        fold += 1\n",
    "    it += 1\n",
    "    \n",
    "print('finished')"
   ]
  },
  {
   "cell_type": "code",
   "execution_count": null,
   "id": "6592175e",
   "metadata": {
    "scrolled": true
   },
   "outputs": [],
   "source": [
    "np.save('aurocs.npy', np.array(aurocs))"
   ]
  },
  {
   "cell_type": "code",
   "execution_count": 49,
   "id": "5bd0de4b",
   "metadata": {
    "scrolled": true
   },
   "outputs": [
    {
     "data": {
      "text/plain": [
       "array([[[0.49895185, 0.49887076, 0.5010811 , 0.49621725, 0.50140552,\n",
       "         0.52072762, 0.49761038, 0.51568684, 0.49936026, 0.5052787 ],\n",
       "        [0.74703654, 0.80050552, 0.82432828, 0.81856254, 0.82000247,\n",
       "         0.84202099, 0.85266265, 0.85533665, 0.85646975, 0.85598102],\n",
       "        [0.78519255, 0.81999248, 0.81689101, 0.83545671, 0.8429554 ,\n",
       "         0.83363831, 0.85673819, 0.85735448, 0.86106076, 0.8627466 ],\n",
       "        [0.77145228, 0.79541651, 0.81720432, 0.82915602, 0.83143356,\n",
       "         0.83350721, 0.85733391, 0.85895285, 0.86285394, 0.86541952],\n",
       "        [0.75784117, 0.80310571, 0.82233912, 0.81935463, 0.82314267,\n",
       "         0.83326929, 0.85275637, 0.85745312, 0.85854329, 0.86105818]],\n",
       "\n",
       "       [[0.4909995 , 0.49349047, 0.50157095, 0.49491701, 0.50432191,\n",
       "         0.49293889, 0.49117191, 0.50347867, 0.50967407, 0.49226346],\n",
       "        [0.49898561, 0.4916588 , 0.50702122, 0.51363935, 0.49204734,\n",
       "         0.49595667, 0.51356975, 0.50885571, 0.50474934, 0.5077848 ],\n",
       "        [0.71422539, 0.80496316, 0.83415305, 0.82462693, 0.83854784,\n",
       "         0.84456304, 0.85846767, 0.86020976, 0.86117099, 0.86479275],\n",
       "        [0.49946346, 0.49996489, 0.5018892 , 0.49610586, 0.49697122,\n",
       "         0.50427724, 0.49748449, 0.50583326, 0.49989973, 0.50143484],\n",
       "        [0.75224915, 0.77308356, 0.81418958, 0.82061948, 0.82417554,\n",
       "         0.82407716, 0.84434252, 0.84888125, 0.85035   , 0.85306092]],\n",
       "\n",
       "       [[0.48712404, 0.50033912, 0.49141393, 0.50530775, 0.50783056,\n",
       "         0.50786601, 0.49577612, 0.50219603, 0.50024498, 0.49720104],\n",
       "        [0.51490517, 0.4949326 , 0.49306165, 0.51095058, 0.50671061,\n",
       "         0.50306597, 0.49396971, 0.49699672, 0.47999842, 0.49704965],\n",
       "        [0.50176103, 0.50606049, 0.49898989, 0.49481296, 0.5004311 ,\n",
       "         0.49705104, 0.501775  , 0.48703889, 0.49309136, 0.49011397],\n",
       "        [0.50702581, 0.49863268, 0.50159633, 0.50276219, 0.50012427,\n",
       "         0.49720853, 0.51259583, 0.50483283, 0.50665725, 0.4867745 ],\n",
       "        [0.49593229, 0.50740112, 0.49087025, 0.50833133, 0.51199811,\n",
       "         0.50318981, 0.50683495, 0.50915756, 0.50844255, 0.5029816 ]]])"
      ]
     },
     "execution_count": 49,
     "metadata": {},
     "output_type": "execute_result"
    }
   ],
   "source": [
    "#aurocs = np.load('aurocs.npy', allow_pickle=True)\n",
    "aurocs"
   ]
  },
  {
   "cell_type": "code",
   "execution_count": 52,
   "id": "4f5925d3",
   "metadata": {},
   "outputs": [],
   "source": [
    "#ab = np.load('train_losses.npy', allow_pickle=True)\n",
    "\n",
    "#aurocs_mean = copy.deepcopy(aurocs)\n",
    "#aurocs_max = copy.deepcopy(aurocs)\n",
    "\n",
    "aurocs_mean = np.zeros((3,5))\n",
    "aurocs_max = np.zeros((3,5))\n",
    "\n",
    "\n",
    "for i in range(3):\n",
    "    for j in range(5):\n",
    "        aurocs_mean[i][j] = np.mean(aurocs[i][j])\n",
    "        aurocs_max[i][j] = np.max(aurocs[i][j])"
   ]
  },
  {
   "cell_type": "code",
   "execution_count": 55,
   "id": "446523e9",
   "metadata": {
    "scrolled": false
   },
   "outputs": [
    {
     "data": {
      "image/png": "[encoded data removed]",
      "text/plain": [
       "<Figure size 576x432 with 1 Axes>"
      ]
     },
     "metadata": {
      "needs_background": "light"
     },
     "output_type": "display_data"
    },
    {
     "data": {
      "image/png": "[encoded data removed]",
      "text/plain": [
       "<Figure size 576x432 with 1 Axes>"
      ]
     },
     "metadata": {
      "needs_background": "light"
     },
     "output_type": "display_data"
    }
   ],
   "source": [
    "plt.figure(figsize=(8,6))\n",
    "for j in range(3):\n",
    "    plt.plot(range(1, len(aurocs[j]) + 1), aurocs_mean[j], label=names[j], marker=\".\")\n",
    "plt.xlabel(\"Folds\")\n",
    "plt.ylabel(\"AUROC\")\n",
    "plt.xticks(np.arange(1, len(aurocs[j]) + 1, step=1))\n",
    "plt.legend()\n",
    "plt.title(f\"Mean Validation AUROC over Folds of Model {names[j]}\");\n",
    "\n",
    "plt.figure(figsize=(8,6))\n",
    "for j in range(3):\n",
    "    plt.plot(range(1, len(aurocs[j]) + 1), aurocs_max[j], label=names[j], marker=\".\")\n",
    "plt.xlabel(\"Folds\")\n",
    "plt.ylabel(\"AUROC\")\n",
    "plt.xticks(np.arange(1, len(aurocs[j]) + 1, step=1))\n",
    "plt.legend()\n",
    "plt.title(f\"Max Validation AUROC over Folds of Model {names[j]}\");\n",
    "\n"
   ]
  },
  {
   "cell_type": "code",
   "execution_count": 56,
   "id": "533148e1",
   "metadata": {},
   "outputs": [
    {
     "name": "stdout",
     "output_type": "stream",
     "text": [
      "Batch Size 16\n",
      "\n",
      "Model efficientnet-b1-pretrained\n",
      "Fold 0, mean AUROC: 0.5035190277777778, best AUROC: 0.5207276234567901\n",
      "Fold 1, mean AUROC: 0.8272906404320988, best AUROC: 0.8564697530864198\n",
      "Fold 2, mean AUROC: 0.837202650462963, best AUROC: 0.8627466049382716\n",
      "Fold 3, mean AUROC: 0.832273013117284, best AUROC: 0.8654195216049383\n",
      "Fold 4, mean AUROC: 0.8288863541666667, best AUROC: 0.8610581790123457\n",
      "\n",
      "Model efficientnet-b3-augment\n",
      "Fold 0, mean AUROC: 0.4974826851851851, best AUROC: 0.5096740740740741\n",
      "Fold 1, mean AUROC: 0.5034268595679011, best AUROC: 0.5136393518518518\n",
      "Fold 2, mean AUROC: 0.8305720563271605, best AUROC: 0.8647927469135801\n",
      "Fold 3, mean AUROC: 0.5003324189814815, best AUROC: 0.5058332561728396\n",
      "Fold 4, mean AUROC: 0.8205029166666666, best AUROC: 0.8530609182098765\n",
      "\n",
      "Model efficintnet-b5-augment\n",
      "Fold 0, mean AUROC: 0.49952995756172835, best AUROC: 0.5078660108024691\n",
      "Fold 1, mean AUROC: 0.49916410879629636, best AUROC: 0.5149051697530864\n",
      "Fold 2, mean AUROC: 0.49711257330246916, best AUROC: 0.5060604938271605\n",
      "Fold 3, mean AUROC: 0.5018210223765431, best AUROC: 0.5125958333333334\n",
      "Fold 4, mean AUROC: 0.5045139583333333, best AUROC: 0.5119981095679011\n"
     ]
    }
   ],
   "source": [
    "print(f\"Batch Size {Batch_Size}\")\n",
    "for i in range(len(aurocs)):\n",
    "    print(f\"\\nModel {names[i]}\")\n",
    "    for j in range(5):\n",
    "        print(f\"Fold {j}, mean AUROC: {np.mean(aurocs[i][j])}, best AUROC: {np.max(aurocs[i][j])}\")"
   ]
  },
  {
   "cell_type": "code",
   "execution_count": null,
   "id": "87c49ce5",
   "metadata": {},
   "outputs": [],
   "source": []
  }
 ],
 "metadata": {
  "kernelspec": {
   "display_name": "Python 3 (ipykernel)",
   "language": "python",
   "name": "python3"
  },
  "language_info": {
   "codemirror_mode": {
    "name": "ipython",
    "version": 3
   },
   "file_extension": ".py",
   "mimetype": "text/x-python",
   "name": "python",
   "nbconvert_exporter": "python",
   "pygments_lexer": "ipython3",
   "version": "3.7.11"
  }
 },
 "nbformat": 4,
 "nbformat_minor": 5
}
